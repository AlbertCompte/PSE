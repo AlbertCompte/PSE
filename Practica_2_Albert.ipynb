{
  "nbformat": 4,
  "nbformat_minor": 0,
  "metadata": {
    "colab": {
      "provenance": [],
      "include_colab_link": true
    },
    "kernelspec": {
      "display_name": "Python [default]",
      "language": "python",
      "name": "python3"
    },
    "language_info": {
      "codemirror_mode": {
        "name": "ipython",
        "version": 3
      },
      "file_extension": ".py",
      "mimetype": "text/x-python",
      "name": "python",
      "nbconvert_exporter": "python",
      "pygments_lexer": "ipython3",
      "version": "3.5.6"
    }
  },
  "cells": [
    {
      "cell_type": "markdown",
      "metadata": {
        "id": "view-in-github",
        "colab_type": "text"
      },
      "source": [
        "<a href=\"https://colab.research.google.com/github/AlbertCompte/PSE/blob/main/Practica_2_Albert.ipynb\" target=\"_parent\"><img src=\"https://colab.research.google.com/assets/colab-badge.svg\" alt=\"Open In Colab\"/></a>"
      ]
    },
    {
      "cell_type": "markdown",
      "metadata": {
        "id": "2xUZcLMxrF4C"
      },
      "source": [
        "\n",
        "<img src=https://static.casadomo.com/media/2020/02/lonmark-espana-universidad-valencia-jornada-automatizacion.png width=\"300\">\n",
        "\n",
        "\n",
        "# Procesado de Señal"
      ]
    },
    {
      "cell_type": "markdown",
      "metadata": {
        "id": "f4JYx2dQeL4V"
      },
      "source": [
        "# Práctica 2"
      ]
    },
    {
      "cell_type": "markdown",
      "metadata": {
        "id": "mi16tod-sW8s"
      },
      "source": [
        "\n",
        "# Parte 1 - Normalización y codificación de señales\n",
        "\n",
        "Detalles en: \n",
        "https://scikit-learn.org/stable/modules/preprocessing.html"
      ]
    },
    {
      "cell_type": "markdown",
      "metadata": {
        "id": "HUB_dW6eWbPS"
      },
      "source": [
        "## 1.1.1. Vamos a normalizar variables\n",
        "Leemos las librerias necesarias"
      ]
    },
    {
      "cell_type": "code",
      "metadata": {
        "id": "0ibuYiUpWP7q"
      },
      "source": [
        "from sklearn import datasets\n",
        "import matplotlib.pyplot as plt\n",
        "%matplotlib inline\n",
        "import numpy as np"
      ],
      "execution_count": 3,
      "outputs": []
    },
    {
      "cell_type": "markdown",
      "metadata": {
        "id": "MrbED4YdXv05"
      },
      "source": [
        "### Descargamos los datos de los datasets de sklearn y los visualizamos un poco"
      ]
    },
    {
      "cell_type": "code",
      "metadata": {
        "id": "ck--S8VzWQHp"
      },
      "source": [
        "iris = datasets.load_iris()"
      ],
      "execution_count": 4,
      "outputs": []
    },
    {
      "cell_type": "code",
      "metadata": {
        "id": "Te2rHjyGWQPd",
        "colab": {
          "base_uri": "https://localhost:8080/"
        },
        "outputId": "725d8db5-2475-4cda-bbe5-7ef25dd2deff"
      },
      "source": [
        "# Muestra la descripción\n",
        "print(iris.DESCR)"
      ],
      "execution_count": 5,
      "outputs": [
        {
          "output_type": "stream",
          "name": "stdout",
          "text": [
            ".. _iris_dataset:\n",
            "\n",
            "Iris plants dataset\n",
            "--------------------\n",
            "\n",
            "**Data Set Characteristics:**\n",
            "\n",
            "    :Number of Instances: 150 (50 in each of three classes)\n",
            "    :Number of Attributes: 4 numeric, predictive attributes and the class\n",
            "    :Attribute Information:\n",
            "        - sepal length in cm\n",
            "        - sepal width in cm\n",
            "        - petal length in cm\n",
            "        - petal width in cm\n",
            "        - class:\n",
            "                - Iris-Setosa\n",
            "                - Iris-Versicolour\n",
            "                - Iris-Virginica\n",
            "                \n",
            "    :Summary Statistics:\n",
            "\n",
            "    ============== ==== ==== ======= ===== ====================\n",
            "                    Min  Max   Mean    SD   Class Correlation\n",
            "    ============== ==== ==== ======= ===== ====================\n",
            "    sepal length:   4.3  7.9   5.84   0.83    0.7826\n",
            "    sepal width:    2.0  4.4   3.05   0.43   -0.4194\n",
            "    petal length:   1.0  6.9   3.76   1.76    0.9490  (high!)\n",
            "    petal width:    0.1  2.5   1.20   0.76    0.9565  (high!)\n",
            "    ============== ==== ==== ======= ===== ====================\n",
            "\n",
            "    :Missing Attribute Values: None\n",
            "    :Class Distribution: 33.3% for each of 3 classes.\n",
            "    :Creator: R.A. Fisher\n",
            "    :Donor: Michael Marshall (MARSHALL%PLU@io.arc.nasa.gov)\n",
            "    :Date: July, 1988\n",
            "\n",
            "The famous Iris database, first used by Sir R.A. Fisher. The dataset is taken\n",
            "from Fisher's paper. Note that it's the same as in R, but not as in the UCI\n",
            "Machine Learning Repository, which has two wrong data points.\n",
            "\n",
            "This is perhaps the best known database to be found in the\n",
            "pattern recognition literature.  Fisher's paper is a classic in the field and\n",
            "is referenced frequently to this day.  (See Duda & Hart, for example.)  The\n",
            "data set contains 3 classes of 50 instances each, where each class refers to a\n",
            "type of iris plant.  One class is linearly separable from the other 2; the\n",
            "latter are NOT linearly separable from each other.\n",
            "\n",
            ".. topic:: References\n",
            "\n",
            "   - Fisher, R.A. \"The use of multiple measurements in taxonomic problems\"\n",
            "     Annual Eugenics, 7, Part II, 179-188 (1936); also in \"Contributions to\n",
            "     Mathematical Statistics\" (John Wiley, NY, 1950).\n",
            "   - Duda, R.O., & Hart, P.E. (1973) Pattern Classification and Scene Analysis.\n",
            "     (Q327.D83) John Wiley & Sons.  ISBN 0-471-22361-1.  See page 218.\n",
            "   - Dasarathy, B.V. (1980) \"Nosing Around the Neighborhood: A New System\n",
            "     Structure and Classification Rule for Recognition in Partially Exposed\n",
            "     Environments\".  IEEE Transactions on Pattern Analysis and Machine\n",
            "     Intelligence, Vol. PAMI-2, No. 1, 67-71.\n",
            "   - Gates, G.W. (1972) \"The Reduced Nearest Neighbor Rule\".  IEEE Transactions\n",
            "     on Information Theory, May 1972, 431-433.\n",
            "   - See also: 1988 MLC Proceedings, 54-64.  Cheeseman et al\"s AUTOCLASS II\n",
            "     conceptual clustering system finds 3 classes in the data.\n",
            "   - Many, many more ...\n"
          ]
        }
      ]
    },
    {
      "cell_type": "code",
      "metadata": {
        "id": "SbNt5zF4W6OE",
        "colab": {
          "base_uri": "https://localhost:8080/"
        },
        "outputId": "edf7c42c-2db7-4887-9448-f522112f92b1"
      },
      "source": [
        "# las entradas\n",
        "iris.data"
      ],
      "execution_count": 6,
      "outputs": [
        {
          "output_type": "execute_result",
          "data": {
            "text/plain": [
              "array([[5.1, 3.5, 1.4, 0.2],\n",
              "       [4.9, 3. , 1.4, 0.2],\n",
              "       [4.7, 3.2, 1.3, 0.2],\n",
              "       [4.6, 3.1, 1.5, 0.2],\n",
              "       [5. , 3.6, 1.4, 0.2],\n",
              "       [5.4, 3.9, 1.7, 0.4],\n",
              "       [4.6, 3.4, 1.4, 0.3],\n",
              "       [5. , 3.4, 1.5, 0.2],\n",
              "       [4.4, 2.9, 1.4, 0.2],\n",
              "       [4.9, 3.1, 1.5, 0.1],\n",
              "       [5.4, 3.7, 1.5, 0.2],\n",
              "       [4.8, 3.4, 1.6, 0.2],\n",
              "       [4.8, 3. , 1.4, 0.1],\n",
              "       [4.3, 3. , 1.1, 0.1],\n",
              "       [5.8, 4. , 1.2, 0.2],\n",
              "       [5.7, 4.4, 1.5, 0.4],\n",
              "       [5.4, 3.9, 1.3, 0.4],\n",
              "       [5.1, 3.5, 1.4, 0.3],\n",
              "       [5.7, 3.8, 1.7, 0.3],\n",
              "       [5.1, 3.8, 1.5, 0.3],\n",
              "       [5.4, 3.4, 1.7, 0.2],\n",
              "       [5.1, 3.7, 1.5, 0.4],\n",
              "       [4.6, 3.6, 1. , 0.2],\n",
              "       [5.1, 3.3, 1.7, 0.5],\n",
              "       [4.8, 3.4, 1.9, 0.2],\n",
              "       [5. , 3. , 1.6, 0.2],\n",
              "       [5. , 3.4, 1.6, 0.4],\n",
              "       [5.2, 3.5, 1.5, 0.2],\n",
              "       [5.2, 3.4, 1.4, 0.2],\n",
              "       [4.7, 3.2, 1.6, 0.2],\n",
              "       [4.8, 3.1, 1.6, 0.2],\n",
              "       [5.4, 3.4, 1.5, 0.4],\n",
              "       [5.2, 4.1, 1.5, 0.1],\n",
              "       [5.5, 4.2, 1.4, 0.2],\n",
              "       [4.9, 3.1, 1.5, 0.2],\n",
              "       [5. , 3.2, 1.2, 0.2],\n",
              "       [5.5, 3.5, 1.3, 0.2],\n",
              "       [4.9, 3.6, 1.4, 0.1],\n",
              "       [4.4, 3. , 1.3, 0.2],\n",
              "       [5.1, 3.4, 1.5, 0.2],\n",
              "       [5. , 3.5, 1.3, 0.3],\n",
              "       [4.5, 2.3, 1.3, 0.3],\n",
              "       [4.4, 3.2, 1.3, 0.2],\n",
              "       [5. , 3.5, 1.6, 0.6],\n",
              "       [5.1, 3.8, 1.9, 0.4],\n",
              "       [4.8, 3. , 1.4, 0.3],\n",
              "       [5.1, 3.8, 1.6, 0.2],\n",
              "       [4.6, 3.2, 1.4, 0.2],\n",
              "       [5.3, 3.7, 1.5, 0.2],\n",
              "       [5. , 3.3, 1.4, 0.2],\n",
              "       [7. , 3.2, 4.7, 1.4],\n",
              "       [6.4, 3.2, 4.5, 1.5],\n",
              "       [6.9, 3.1, 4.9, 1.5],\n",
              "       [5.5, 2.3, 4. , 1.3],\n",
              "       [6.5, 2.8, 4.6, 1.5],\n",
              "       [5.7, 2.8, 4.5, 1.3],\n",
              "       [6.3, 3.3, 4.7, 1.6],\n",
              "       [4.9, 2.4, 3.3, 1. ],\n",
              "       [6.6, 2.9, 4.6, 1.3],\n",
              "       [5.2, 2.7, 3.9, 1.4],\n",
              "       [5. , 2. , 3.5, 1. ],\n",
              "       [5.9, 3. , 4.2, 1.5],\n",
              "       [6. , 2.2, 4. , 1. ],\n",
              "       [6.1, 2.9, 4.7, 1.4],\n",
              "       [5.6, 2.9, 3.6, 1.3],\n",
              "       [6.7, 3.1, 4.4, 1.4],\n",
              "       [5.6, 3. , 4.5, 1.5],\n",
              "       [5.8, 2.7, 4.1, 1. ],\n",
              "       [6.2, 2.2, 4.5, 1.5],\n",
              "       [5.6, 2.5, 3.9, 1.1],\n",
              "       [5.9, 3.2, 4.8, 1.8],\n",
              "       [6.1, 2.8, 4. , 1.3],\n",
              "       [6.3, 2.5, 4.9, 1.5],\n",
              "       [6.1, 2.8, 4.7, 1.2],\n",
              "       [6.4, 2.9, 4.3, 1.3],\n",
              "       [6.6, 3. , 4.4, 1.4],\n",
              "       [6.8, 2.8, 4.8, 1.4],\n",
              "       [6.7, 3. , 5. , 1.7],\n",
              "       [6. , 2.9, 4.5, 1.5],\n",
              "       [5.7, 2.6, 3.5, 1. ],\n",
              "       [5.5, 2.4, 3.8, 1.1],\n",
              "       [5.5, 2.4, 3.7, 1. ],\n",
              "       [5.8, 2.7, 3.9, 1.2],\n",
              "       [6. , 2.7, 5.1, 1.6],\n",
              "       [5.4, 3. , 4.5, 1.5],\n",
              "       [6. , 3.4, 4.5, 1.6],\n",
              "       [6.7, 3.1, 4.7, 1.5],\n",
              "       [6.3, 2.3, 4.4, 1.3],\n",
              "       [5.6, 3. , 4.1, 1.3],\n",
              "       [5.5, 2.5, 4. , 1.3],\n",
              "       [5.5, 2.6, 4.4, 1.2],\n",
              "       [6.1, 3. , 4.6, 1.4],\n",
              "       [5.8, 2.6, 4. , 1.2],\n",
              "       [5. , 2.3, 3.3, 1. ],\n",
              "       [5.6, 2.7, 4.2, 1.3],\n",
              "       [5.7, 3. , 4.2, 1.2],\n",
              "       [5.7, 2.9, 4.2, 1.3],\n",
              "       [6.2, 2.9, 4.3, 1.3],\n",
              "       [5.1, 2.5, 3. , 1.1],\n",
              "       [5.7, 2.8, 4.1, 1.3],\n",
              "       [6.3, 3.3, 6. , 2.5],\n",
              "       [5.8, 2.7, 5.1, 1.9],\n",
              "       [7.1, 3. , 5.9, 2.1],\n",
              "       [6.3, 2.9, 5.6, 1.8],\n",
              "       [6.5, 3. , 5.8, 2.2],\n",
              "       [7.6, 3. , 6.6, 2.1],\n",
              "       [4.9, 2.5, 4.5, 1.7],\n",
              "       [7.3, 2.9, 6.3, 1.8],\n",
              "       [6.7, 2.5, 5.8, 1.8],\n",
              "       [7.2, 3.6, 6.1, 2.5],\n",
              "       [6.5, 3.2, 5.1, 2. ],\n",
              "       [6.4, 2.7, 5.3, 1.9],\n",
              "       [6.8, 3. , 5.5, 2.1],\n",
              "       [5.7, 2.5, 5. , 2. ],\n",
              "       [5.8, 2.8, 5.1, 2.4],\n",
              "       [6.4, 3.2, 5.3, 2.3],\n",
              "       [6.5, 3. , 5.5, 1.8],\n",
              "       [7.7, 3.8, 6.7, 2.2],\n",
              "       [7.7, 2.6, 6.9, 2.3],\n",
              "       [6. , 2.2, 5. , 1.5],\n",
              "       [6.9, 3.2, 5.7, 2.3],\n",
              "       [5.6, 2.8, 4.9, 2. ],\n",
              "       [7.7, 2.8, 6.7, 2. ],\n",
              "       [6.3, 2.7, 4.9, 1.8],\n",
              "       [6.7, 3.3, 5.7, 2.1],\n",
              "       [7.2, 3.2, 6. , 1.8],\n",
              "       [6.2, 2.8, 4.8, 1.8],\n",
              "       [6.1, 3. , 4.9, 1.8],\n",
              "       [6.4, 2.8, 5.6, 2.1],\n",
              "       [7.2, 3. , 5.8, 1.6],\n",
              "       [7.4, 2.8, 6.1, 1.9],\n",
              "       [7.9, 3.8, 6.4, 2. ],\n",
              "       [6.4, 2.8, 5.6, 2.2],\n",
              "       [6.3, 2.8, 5.1, 1.5],\n",
              "       [6.1, 2.6, 5.6, 1.4],\n",
              "       [7.7, 3. , 6.1, 2.3],\n",
              "       [6.3, 3.4, 5.6, 2.4],\n",
              "       [6.4, 3.1, 5.5, 1.8],\n",
              "       [6. , 3. , 4.8, 1.8],\n",
              "       [6.9, 3.1, 5.4, 2.1],\n",
              "       [6.7, 3.1, 5.6, 2.4],\n",
              "       [6.9, 3.1, 5.1, 2.3],\n",
              "       [5.8, 2.7, 5.1, 1.9],\n",
              "       [6.8, 3.2, 5.9, 2.3],\n",
              "       [6.7, 3.3, 5.7, 2.5],\n",
              "       [6.7, 3. , 5.2, 2.3],\n",
              "       [6.3, 2.5, 5. , 1.9],\n",
              "       [6.5, 3. , 5.2, 2. ],\n",
              "       [6.2, 3.4, 5.4, 2.3],\n",
              "       [5.9, 3. , 5.1, 1.8]])"
            ]
          },
          "metadata": {},
          "execution_count": 6
        }
      ]
    },
    {
      "cell_type": "code",
      "metadata": {
        "id": "E-buEmlGW_4X",
        "colab": {
          "base_uri": "https://localhost:8080/"
        },
        "outputId": "ce46e7ab-5bb7-490e-fa84-73e8d130a963"
      },
      "source": [
        "# las salidas\n",
        "iris.target"
      ],
      "execution_count": 7,
      "outputs": [
        {
          "output_type": "execute_result",
          "data": {
            "text/plain": [
              "array([0, 0, 0, 0, 0, 0, 0, 0, 0, 0, 0, 0, 0, 0, 0, 0, 0, 0, 0, 0, 0, 0,\n",
              "       0, 0, 0, 0, 0, 0, 0, 0, 0, 0, 0, 0, 0, 0, 0, 0, 0, 0, 0, 0, 0, 0,\n",
              "       0, 0, 0, 0, 0, 0, 1, 1, 1, 1, 1, 1, 1, 1, 1, 1, 1, 1, 1, 1, 1, 1,\n",
              "       1, 1, 1, 1, 1, 1, 1, 1, 1, 1, 1, 1, 1, 1, 1, 1, 1, 1, 1, 1, 1, 1,\n",
              "       1, 1, 1, 1, 1, 1, 1, 1, 1, 1, 1, 1, 2, 2, 2, 2, 2, 2, 2, 2, 2, 2,\n",
              "       2, 2, 2, 2, 2, 2, 2, 2, 2, 2, 2, 2, 2, 2, 2, 2, 2, 2, 2, 2, 2, 2,\n",
              "       2, 2, 2, 2, 2, 2, 2, 2, 2, 2, 2, 2, 2, 2, 2, 2, 2, 2])"
            ]
          },
          "metadata": {},
          "execution_count": 7
        }
      ]
    },
    {
      "cell_type": "code",
      "metadata": {
        "id": "nhcBbfFTXBoR",
        "colab": {
          "base_uri": "https://localhost:8080/"
        },
        "outputId": "9b08c316-4c86-4f42-d063-5759ca5569bc"
      },
      "source": [
        "# tamaño de entrada\n",
        "iris.data.shape"
      ],
      "execution_count": 8,
      "outputs": [
        {
          "output_type": "execute_result",
          "data": {
            "text/plain": [
              "(150, 4)"
            ]
          },
          "metadata": {},
          "execution_count": 8
        }
      ]
    },
    {
      "cell_type": "code",
      "metadata": {
        "id": "haQYxiu1XD2u",
        "colab": {
          "base_uri": "https://localhost:8080/"
        },
        "outputId": "6963d5a7-593d-4fb7-bb7b-19d5f6164b94"
      },
      "source": [
        "# tamaño de salida\n",
        "iris.target.shape"
      ],
      "execution_count": 9,
      "outputs": [
        {
          "output_type": "execute_result",
          "data": {
            "text/plain": [
              "(150,)"
            ]
          },
          "metadata": {},
          "execution_count": 9
        }
      ]
    },
    {
      "cell_type": "code",
      "metadata": {
        "id": "KttXVMGTXHpW",
        "colab": {
          "base_uri": "https://localhost:8080/",
          "height": 265
        },
        "outputId": "2286da11-bdb0-49e2-a2df-ccd8ebb5f6f6"
      },
      "source": [
        "# un histograma de la primera dimension\n",
        "plt.hist(iris.data[:,0],21);"
      ],
      "execution_count": 10,
      "outputs": [
        {
          "output_type": "display_data",
          "data": {
            "text/plain": [
              "<Figure size 432x288 with 1 Axes>"
            ],
            "image/png": "[encoded data removed]"
          },
          "metadata": {
            "needs_background": "light"
          }
        }
      ]
    },
    {
      "cell_type": "code",
      "metadata": {
        "id": "o0XvzxdAXmmQ",
        "colab": {
          "base_uri": "https://localhost:8080/",
          "height": 265
        },
        "outputId": "cb58b73a-3d79-4ea7-ac3a-e1a605192beb"
      },
      "source": [
        "# un histograma de la segunda dimension\n",
        "plt.hist(iris.data[:,1],21);"
      ],
      "execution_count": 11,
      "outputs": [
        {
          "output_type": "display_data",
          "data": {
            "text/plain": [
              "<Figure size 432x288 with 1 Axes>"
            ],
            "image/png": "[encoded data removed]"
          },
          "metadata": {
            "needs_background": "light"
          }
        }
      ]
    },
    {
      "cell_type": "markdown",
      "metadata": {
        "id": "A5KbQy5DX45H"
      },
      "source": [
        "### Normalizamos la primera variable \"a mano\""
      ]
    },
    {
      "cell_type": "code",
      "metadata": {
        "id": "kViJSg_5X78-"
      },
      "source": [
        "X = iris.data"
      ],
      "execution_count": 12,
      "outputs": []
    },
    {
      "cell_type": "code",
      "metadata": {
        "colab": {
          "base_uri": "https://localhost:8080/"
        },
        "id": "KhkPBh92412E",
        "outputId": "343898d0-4e71-4b56-a3ae-035965c7253b"
      },
      "source": [
        "X.shape"
      ],
      "execution_count": 13,
      "outputs": [
        {
          "output_type": "execute_result",
          "data": {
            "text/plain": [
              "(150, 4)"
            ]
          },
          "metadata": {},
          "execution_count": 13
        }
      ]
    },
    {
      "cell_type": "markdown",
      "metadata": {
        "id": "iKOHqKXpv13Y"
      },
      "source": [
        "#### Normalizamos sin quitar el mínimo"
      ]
    },
    {
      "cell_type": "code",
      "metadata": {
        "id": "UcoHt59XX_Rf"
      },
      "source": [
        "X_n = X[:,0] / np.max(X[:,0])"
      ],
      "execution_count": 14,
      "outputs": []
    },
    {
      "cell_type": "code",
      "metadata": {
        "id": "GTwqJ1r6YGTz",
        "colab": {
          "base_uri": "https://localhost:8080/",
          "height": 265
        },
        "outputId": "117340c5-efbb-42cc-9797-16d4c3d9a159"
      },
      "source": [
        "# Histograma sin normalizar\n",
        "plt.hist(X[:,0],21);"
      ],
      "execution_count": 15,
      "outputs": [
        {
          "output_type": "display_data",
          "data": {
            "text/plain": [
              "<Figure size 432x288 with 1 Axes>"
            ],
            "image/png": "[encoded data removed]"
          },
          "metadata": {
            "needs_background": "light"
          }
        }
      ]
    },
    {
      "cell_type": "code",
      "metadata": {
        "id": "XncSdCNMYWBY",
        "colab": {
          "base_uri": "https://localhost:8080/",
          "height": 265
        },
        "outputId": "ddcc9ea9-185c-4c7f-ca64-3d69c117aadb"
      },
      "source": [
        "# Histograma normalizando\n",
        "plt.hist(X_n,21);"
      ],
      "execution_count": 16,
      "outputs": [
        {
          "output_type": "display_data",
          "data": {
            "text/plain": [
              "<Figure size 432x288 with 1 Axes>"
            ],
            "image/png": "[encoded data removed]"
          },
          "metadata": {
            "needs_background": "light"
          }
        }
      ]
    },
    {
      "cell_type": "code",
      "metadata": {
        "id": "NGtu0iXYcuJc",
        "colab": {
          "base_uri": "https://localhost:8080/",
          "height": 281
        },
        "outputId": "508d8b21-8fdd-43b3-e6a6-9e9d5384348c"
      },
      "source": [
        "# Usando subplot ...\n",
        "plt.figure(figsize=(10,4))\n",
        "plt.subplot(1,2,1), plt.hist(X[:,0],21), plt.title('Sin normalizar')\n",
        "plt.subplot(1,2,2), plt.hist(X_n,21), plt.title('Normalizado');"
      ],
      "execution_count": 17,
      "outputs": [
        {
          "output_type": "display_data",
          "data": {
            "text/plain": [
              "<Figure size 720x288 with 2 Axes>"
            ],
            "image/png": "[encoded data removed]"
          },
          "metadata": {
            "needs_background": "light"
          }
        }
      ]
    },
    {
      "cell_type": "markdown",
      "metadata": {
        "id": "CMn6hoc41yGP"
      },
      "source": [
        "#### Ejercicio: \n",
        "Haz lo mismo pero para la dimensión 2, i.e. X\\[:,1\\]"
      ]
    },
    {
      "cell_type": "code",
      "metadata": {
        "id": "Etuuz9l41Exz",
        "colab": {
          "base_uri": "https://localhost:8080/",
          "height": 281
        },
        "outputId": "b686ee3d-764f-4b62-e6fd-5f4b7a503afe"
      },
      "source": [
        "X_n = X[:,1] / np.max(X[:,1])\n",
        "#plt.hist(X[:,1],21);\n",
        "#plt.hist(X_n,21);\n",
        "# Usando subplot ...\n",
        "plt.figure(figsize=(10,4))\n",
        "plt.subplot(1,2,1), plt.hist(X[:,0],21), plt.title('Sin normalizar')\n",
        "plt.subplot(1,2,2), plt.hist(X_n,21), plt.title('Normalizado');"
      ],
      "execution_count": 18,
      "outputs": [
        {
          "output_type": "display_data",
          "data": {
            "text/plain": [
              "<Figure size 720x288 with 2 Axes>"
            ],
            "image/png": "[encoded data removed]"
          },
          "metadata": {
            "needs_background": "light"
          }
        }
      ]
    },
    {
      "cell_type": "markdown",
      "metadata": {
        "id": "Kcj8A0P0v7dh"
      },
      "source": [
        "#### Normalizamos quitando el mínimo"
      ]
    },
    {
      "cell_type": "code",
      "metadata": {
        "id": "wDZVdXBNYe33"
      },
      "source": [
        "X_n = (X[:,0] - np.min(X[:,0])) / (np.max(X[:,0]) - np.min(X[:,0]))"
      ],
      "execution_count": 19,
      "outputs": []
    },
    {
      "cell_type": "code",
      "metadata": {
        "id": "34ez-nkfYe4X",
        "colab": {
          "base_uri": "https://localhost:8080/",
          "height": 281
        },
        "outputId": "ef571529-1b27-41f1-c314-851f3a0be789"
      },
      "source": [
        "plt.figure(figsize=(10,4))\n",
        "plt.subplot(1,2,1), plt.hist(X[:,0],21), plt.title('Sin normalizar')\n",
        "plt.subplot(1,2,2), plt.hist(X_n,21), plt.title('Normalizado');"
      ],
      "execution_count": 20,
      "outputs": [
        {
          "output_type": "display_data",
          "data": {
            "text/plain": [
              "<Figure size 720x288 with 2 Axes>"
            ],
            "image/png": "[encoded data removed]"
          },
          "metadata": {
            "needs_background": "light"
          }
        }
      ]
    },
    {
      "cell_type": "markdown",
      "metadata": {
        "id": "SPsf79I-1wuw"
      },
      "source": [
        "#### Ejercicio: \n",
        "Haz lo mismo pero para la dimensión 2, i.e. X\\[:,1\\]"
      ]
    },
    {
      "cell_type": "code",
      "metadata": {
        "id": "wLx2JGI9Ye4r",
        "colab": {
          "base_uri": "https://localhost:8080/",
          "height": 281
        },
        "outputId": "a743d7c8-2b6d-4d42-f83e-5a8f1a2b6a37"
      },
      "source": [
        "X_n = (X[:,1] - np.min(X[:,1])) / (np.max(X[:,1]) - np.min(X[:,1]))\n",
        "plt.figure(figsize=(10,4))\n",
        "plt.subplot(1,2,1), plt.hist(X[:,1],21), plt.title('Sin normalizar')\n",
        "plt.subplot(1,2,2), plt.hist(X_n,21), plt.title('Normalizado');"
      ],
      "execution_count": 21,
      "outputs": [
        {
          "output_type": "display_data",
          "data": {
            "text/plain": [
              "<Figure size 720x288 with 2 Axes>"
            ],
            "image/png": "[encoded data removed]"
          },
          "metadata": {
            "needs_background": "light"
          }
        }
      ]
    },
    {
      "cell_type": "markdown",
      "metadata": {
        "id": "HO-j8e-Tv_sx"
      },
      "source": [
        "#### Estandarizamos"
      ]
    },
    {
      "cell_type": "code",
      "metadata": {
        "id": "FyT0hhCaYxN-"
      },
      "source": [
        "X_n = (X[:,0] - np.mean(X[:,0])) / (np.std(X[:,0]))"
      ],
      "execution_count": 22,
      "outputs": []
    },
    {
      "cell_type": "code",
      "metadata": {
        "id": "W64zzzw-YxOp",
        "colab": {
          "base_uri": "https://localhost:8080/",
          "height": 472
        },
        "outputId": "15bf50b1-3555-4a91-eb68-b3ae2be34ee7"
      },
      "source": [
        "plt.figure(figsize=(10,4))\n",
        "plt.subplot(1,2,1), plt.hist(X[:,0],21), plt.title('Sin estandarizar')\n",
        "plt.subplot(1,2,2), plt.hist(X_n,21), plt.title('estandarizando')"
      ],
      "execution_count": 23,
      "outputs": [
        {
          "output_type": "execute_result",
          "data": {
            "text/plain": [
              "(<matplotlib.axes._subplots.AxesSubplot at 0x7f9232b10d30>,\n",
              " (array([ 4.,  5.,  7.,  6., 19.,  5.,  6., 13., 15.,  9.,  6., 13., 12.,\n",
              "          2., 11.,  5.,  4.,  1.,  1.,  5.,  1.]),\n",
              "  array([-1.87002413e+00, -1.66230778e+00, -1.45459144e+00, -1.24687509e+00,\n",
              "         -1.03915874e+00, -8.31442387e-01, -6.23726038e-01, -4.16009689e-01,\n",
              "         -2.08293339e-01, -5.76989859e-04,  2.07139359e-01,  4.14855709e-01,\n",
              "          6.22572058e-01,  8.30288407e-01,  1.03800476e+00,  1.24572111e+00,\n",
              "          1.45343746e+00,  1.66115380e+00,  1.86887015e+00,  2.07658650e+00,\n",
              "          2.28430285e+00,  2.49201920e+00]),\n",
              "  <a list of 21 Patch objects>),\n",
              " Text(0.5, 1.0, 'estandarizando'))"
            ]
          },
          "metadata": {},
          "execution_count": 23
        },
        {
          "output_type": "display_data",
          "data": {
            "text/plain": [
              "<Figure size 720x288 with 2 Axes>"
            ],
            "image/png": "[encoded data removed]"
          },
          "metadata": {
            "needs_background": "light"
          }
        }
      ]
    },
    {
      "cell_type": "markdown",
      "metadata": {
        "id": "S9Ew9Wwu1oZv"
      },
      "source": [
        "#### Ejercicio: \n",
        "Haz lo mismo pero para la dimensión 2, i.e. X\\[:,1\\]"
      ]
    },
    {
      "cell_type": "code",
      "metadata": {
        "id": "sbb-1skS1oZy",
        "colab": {
          "base_uri": "https://localhost:8080/",
          "height": 455
        },
        "outputId": "ecc55252-3c2e-4920-b212-51036d16770d"
      },
      "source": [
        "X_n = (X[:,1] - np.mean(X[:,1])) / (np.std(X[:,1]))\n",
        "\n",
        "plt.figure(figsize=(10,4))\n",
        "plt.subplot(1,2,1), plt.hist(X[:,1],21), plt.title('Sin estandarizar')\n",
        "plt.subplot(1,2,2), plt.hist(X_n,21), plt.title('estandarizando')\n"
      ],
      "execution_count": 24,
      "outputs": [
        {
          "output_type": "execute_result",
          "data": {
            "text/plain": [
              "(<matplotlib.axes._subplots.AxesSubplot at 0x7f9232c17190>,\n",
              " (array([ 1.,  3.,  4.,  3.,  8.,  5., 23., 10., 26., 11., 13.,  6., 12.,\n",
              "         10.,  3.,  6.,  2.,  1.,  1.,  1.,  1.]),\n",
              "  array([-2.43394714, -2.17086512, -1.9077831 , -1.64470109, -1.38161907,\n",
              "         -1.11853705, -0.85545503, -0.59237301, -0.32929099, -0.06620897,\n",
              "          0.19687304,  0.45995506,  0.72303708,  0.9861191 ,  1.24920112,\n",
              "          1.51228314,  1.77536516,  2.03844717,  2.30152919,  2.56461121,\n",
              "          2.82769323,  3.09077525]),\n",
              "  <a list of 21 Patch objects>),\n",
              " Text(0.5, 1.0, 'estandarizando'))"
            ]
          },
          "metadata": {},
          "execution_count": 24
        },
        {
          "output_type": "display_data",
          "data": {
            "text/plain": [
              "<Figure size 720x288 with 2 Axes>"
            ],
            "image/png": "[encoded data removed]"
          },
          "metadata": {
            "needs_background": "light"
          }
        }
      ]
    },
    {
      "cell_type": "markdown",
      "metadata": {
        "id": "9P_Hy6aa2sEW"
      },
      "source": [
        "#### Ejercicio:\n",
        "\n",
        "Explica la diferencia entre los tres métodos"
      ]
    },
    {
      "cell_type": "markdown",
      "metadata": {
        "id": "4l29KhN82stg"
      },
      "source": [
        "Cuando no restamos el mínimo se noraliza entre 0 y 1 per tenemos menos muestras en el eje x que cuando normalizamos resta-ándole l-el mínimo.\n",
        "Cuando estandarizamos el rango no está tan ajustado como al normalizar pero sigue siendo bueno\n"
      ]
    },
    {
      "cell_type": "markdown",
      "metadata": {
        "id": "AAYhoUZ5ZAAd"
      },
      "source": [
        "### Normalizamos usando Sklearn\n",
        "\n",
        "https://scikit-learn.org/stable/modules/preprocessing.html"
      ]
    },
    {
      "cell_type": "code",
      "metadata": {
        "id": "LTnjLZq7ZYUJ"
      },
      "source": [
        "from sklearn import preprocessing"
      ],
      "execution_count": 25,
      "outputs": []
    },
    {
      "cell_type": "markdown",
      "metadata": {
        "id": "hfrgWaTMwRtO"
      },
      "source": [
        "#### Estandarizamos directamente"
      ]
    },
    {
      "cell_type": "code",
      "metadata": {
        "id": "VUXgTNyzZC4P"
      },
      "source": [
        "# Usamos la función de estandarización del sklearn\n",
        "X_n = preprocessing.scale(X[:,0])"
      ],
      "execution_count": 26,
      "outputs": []
    },
    {
      "cell_type": "code",
      "metadata": {
        "id": "DV7tkQuBZgIL",
        "colab": {
          "base_uri": "https://localhost:8080/",
          "height": 281
        },
        "outputId": "e2fd5f52-2814-4607-eeb3-9e8b75853a1b"
      },
      "source": [
        "plt.figure(figsize=(10,4))\n",
        "plt.subplot(1,2,1), plt.hist(X[:,0],21), plt.title('Sin estandarizar')\n",
        "plt.subplot(1,2,2), plt.hist(X_n,21), plt.title('Estandarizado');"
      ],
      "execution_count": 27,
      "outputs": [
        {
          "output_type": "display_data",
          "data": {
            "text/plain": [
              "<Figure size 720x288 with 2 Axes>"
            ],
            "image/png": "[encoded data removed]"
          },
          "metadata": {
            "needs_background": "light"
          }
        }
      ]
    },
    {
      "cell_type": "markdown",
      "metadata": {
        "id": "qv98pKpsw2hS"
      },
      "source": [
        "#### Usamos los modelos de normalizacion"
      ]
    },
    {
      "cell_type": "code",
      "metadata": {
        "id": "XksUEQH8actO",
        "colab": {
          "base_uri": "https://localhost:8080/"
        },
        "outputId": "0a400935-50b0-4a64-c3a3-6f7c46948f32"
      },
      "source": [
        "X[:,0].shape"
      ],
      "execution_count": 28,
      "outputs": [
        {
          "output_type": "execute_result",
          "data": {
            "text/plain": [
              "(150,)"
            ]
          },
          "metadata": {},
          "execution_count": 28
        }
      ]
    },
    {
      "cell_type": "code",
      "metadata": {
        "id": "1yqpK3wEZicG"
      },
      "source": [
        "# creamos la funcion para estandarizar y la entrenamos\n",
        "scaler = preprocessing.StandardScaler().fit(X)"
      ],
      "execution_count": 29,
      "outputs": []
    },
    {
      "cell_type": "code",
      "metadata": {
        "id": "b4U645CiaLob",
        "colab": {
          "base_uri": "https://localhost:8080/"
        },
        "outputId": "5be8ae7d-f4f9-47d4-db1c-c2c245e0811a"
      },
      "source": [
        "# La funcion contiene informacion sobre los datos originales\n",
        "# la media\n",
        "print(scaler.mean_)\n",
        "# el rango\n",
        "print(scaler.scale_)"
      ],
      "execution_count": 30,
      "outputs": [
        {
          "output_type": "stream",
          "name": "stdout",
          "text": [
            "[5.84333333 3.05733333 3.758      1.19933333]\n",
            "[0.82530129 0.43441097 1.75940407 0.75969263]\n"
          ]
        }
      ]
    },
    {
      "cell_type": "code",
      "metadata": {
        "id": "aI3dxAz7xC_b",
        "outputId": "d17535c6-0b86-4589-f00e-e75dacc5ec18",
        "colab": {
          "base_uri": "https://localhost:8080/"
        }
      },
      "source": [
        "# si quiero estandarizar solo tengo que aplicar la funcion a los datos que quiera estandarizar\n",
        "X_n = scaler.transform(X)\n",
        "X_n.shape"
      ],
      "execution_count": 31,
      "outputs": [
        {
          "output_type": "execute_result",
          "data": {
            "text/plain": [
              "(150, 4)"
            ]
          },
          "metadata": {},
          "execution_count": 31
        }
      ]
    },
    {
      "cell_type": "code",
      "metadata": {
        "id": "2PkW31Lxx24f",
        "colab": {
          "base_uri": "https://localhost:8080/",
          "height": 281
        },
        "outputId": "597d62ed-1ff7-4a4e-82ac-c9658ebd44ac"
      },
      "source": [
        "plt.figure(figsize=(10,4))\n",
        "plt.subplot(1,2,1), plt.hist(X[:,0],21), plt.title('Sin estandarizar')\n",
        "plt.subplot(1,2,2), plt.hist(X_n[:,0],21), plt.title('Estandarizado');"
      ],
      "execution_count": 32,
      "outputs": [
        {
          "output_type": "display_data",
          "data": {
            "text/plain": [
              "<Figure size 720x288 with 2 Axes>"
            ],
            "image/png": "[encoded data removed]"
          },
          "metadata": {
            "needs_background": "light"
          }
        }
      ]
    },
    {
      "cell_type": "code",
      "metadata": {
        "id": "l45Fui303gPs",
        "colab": {
          "base_uri": "https://localhost:8080/",
          "height": 281
        },
        "outputId": "637923fb-bbfb-4d48-dfd8-bf01b7026db8"
      },
      "source": [
        "# Fíjate que ha estandarizado todas las dimensiones\n",
        "plt.figure(figsize=(10,4))\n",
        "plt.subplot(1,2,1), plt.hist(X,21), plt.title('Sin estandarizar')\n",
        "plt.subplot(1,2,2), plt.hist(X_n,21), plt.title('Estandarizado');"
      ],
      "execution_count": 33,
      "outputs": [
        {
          "output_type": "display_data",
          "data": {
            "text/plain": [
              "<Figure size 720x288 with 2 Axes>"
            ],
            "image/png": "[encoded data removed]"
          },
          "metadata": {
            "needs_background": "light"
          }
        }
      ]
    },
    {
      "cell_type": "markdown",
      "metadata": {
        "id": "E-V7lzeCyEO9"
      },
      "source": [
        "#### Ejercicio: \n",
        "Hay otros modelos, pruébalos. ¿Qué es lo que hacen en los datos?\n",
        "- `preprocessing.MinMaxScaler()`\n",
        "- `preprocessing.MaxAbsScaler()`"
      ]
    },
    {
      "cell_type": "code",
      "metadata": {
        "id": "Rm-NOweIR166",
        "colab": {
          "base_uri": "https://localhost:8080/",
          "height": 545
        },
        "outputId": "2f2b5df9-6a36-46ca-9370-c8ae78fef953"
      },
      "source": [
        "\n",
        "scaler = preprocessing.MinMaxScaler().fit(X) \n",
        "scaler = preprocessing.MaxAbsScaler().fit(X)\n",
        "\n",
        "plt.figure(figsize=(10,4))\n",
        "plt.subplot(1,2,1), plt.hist(X[:,0],21), plt.title('Sin estandarizar')\n",
        "plt.subplot(1,2,2), plt.hist(X_n[:,0],21), plt.title('Estandarizado');\n",
        "\n",
        "plt.figure(figsize=(10,4))\n",
        "plt.subplot(1,2,1), plt.hist(X,21), plt.title('Sin estandarizar')\n",
        "plt.subplot(1,2,2), plt.hist(X_n,21), plt.title('Estandarizado');"
      ],
      "execution_count": 34,
      "outputs": [
        {
          "output_type": "display_data",
          "data": {
            "text/plain": [
              "<Figure size 720x288 with 2 Axes>"
            ],
            "image/png": "[encoded data removed]"
          },
          "metadata": {
            "needs_background": "light"
          }
        },
        {
          "output_type": "display_data",
          "data": {
            "text/plain": [
              "<Figure size 720x288 with 2 Axes>"
            ],
            "image/png": "[encoded data removed]"
          },
          "metadata": {
            "needs_background": "light"
          }
        }
      ]
    },
    {
      "cell_type": "markdown",
      "metadata": {
        "id": "14grcLsczPMB"
      },
      "source": [
        "#### Ejercicio: \n",
        "El uso de modelos de normalización nos permite normalizar otros data sets utilizando exactamente la misma transformación. Esto es útil para normalizar los datos de entrenamiento, test y validación de la misma forma utilizando solo la informacióón de los datos de entrenamiento.\n",
        "\n",
        "Particiona los datos originales en train/test, entrena el modelo de normalización utilizando los datos de train, y normaliza los datos de train y test utilizando este modelo. Ayuda: utiliza la función `train_test_split` de sklearn."
      ]
    },
    {
      "cell_type": "code",
      "metadata": {
        "id": "pBlYzqgMyV2e",
        "colab": {
          "base_uri": "https://localhost:8080/",
          "height": 281
        },
        "outputId": "c03a8d69-40d3-4965-842d-d94ecbdf09db"
      },
      "source": [
        "from sklearn import model_selection\n",
        "\n",
        "X_train, X_test = model_selection.train_test_split(X, test_size = 0.33)\n",
        "\n",
        "scaler = preprocessing.StandardScaler().fit(X_train)\n",
        "X_n = scaler.transform(X_test)\n",
        "\n",
        "plt.figure(figsize=(10,4))\n",
        "plt.subplot(1,2,1), plt.hist(X_train,21), plt.title('Sin estandarizar')\n",
        "plt.subplot(1,2,2), plt.hist(X_test,21), plt.title('Estandarizado');\n",
        "\n"
      ],
      "execution_count": 35,
      "outputs": [
        {
          "output_type": "display_data",
          "data": {
            "text/plain": [
              "<Figure size 720x288 with 2 Axes>"
            ],
            "image/png": "[encoded data removed]"
          },
          "metadata": {
            "needs_background": "light"
          }
        }
      ]
    },
    {
      "cell_type": "code",
      "source": [
        "X_train.shape"
      ],
      "metadata": {
        "id": "ytTKU_FQr0gt",
        "colab": {
          "base_uri": "https://localhost:8080/"
        },
        "outputId": "d5998655-ad4c-4983-b729-144f045b72ae"
      },
      "execution_count": 36,
      "outputs": [
        {
          "output_type": "execute_result",
          "data": {
            "text/plain": [
              "(100, 4)"
            ]
          },
          "metadata": {},
          "execution_count": 36
        }
      ]
    },
    {
      "cell_type": "code",
      "source": [
        "X_test.shape"
      ],
      "metadata": {
        "id": "VvLFj0ljr0Wj",
        "colab": {
          "base_uri": "https://localhost:8080/"
        },
        "outputId": "c6a2c1ff-ba5d-42b0-83c1-ff84871fffa2"
      },
      "execution_count": 37,
      "outputs": [
        {
          "output_type": "execute_result",
          "data": {
            "text/plain": [
              "(50, 4)"
            ]
          },
          "metadata": {},
          "execution_count": 37
        }
      ]
    },
    {
      "cell_type": "markdown",
      "metadata": {
        "id": "nxnB5z5VyjG0"
      },
      "source": [
        "## 1.1.2 Normalización avanzada\n",
        "\n",
        "En realidad esta parte es una ecualización de los datos. Convierte su distribución marginal (1D) para que tenga la distribucióón que nosotros queramos (uniforme, Gausiana, ...). Piensa que la transformacióón es monotónica creciente por lo que conserva el orden de los datos."
      ]
    },
    {
      "cell_type": "code",
      "metadata": {
        "id": "Cb5pKOl3ymsB",
        "colab": {
          "base_uri": "https://localhost:8080/"
        },
        "outputId": "f084ffe6-0b8f-4244-93fe-51280e5c03d4"
      },
      "source": [
        "from sklearn.datasets import load_iris\n",
        "from sklearn.model_selection import train_test_split\n",
        "\n",
        "X = iris.data\n",
        "y = iris.target\n",
        "\n",
        "X_train, X_test, y_train, y_test = train_test_split(X, y, random_state=0)\n",
        "\n",
        "quantile_transformer = preprocessing.QuantileTransformer(random_state=0)\n",
        "\n",
        "X_train_trans = quantile_transformer.fit_transform(X_train)\n",
        "X_test_trans = quantile_transformer.transform(X_test)\n",
        "\n",
        "np.percentile(X_train[:, 0], [0, 25, 50, 75, 100])"
      ],
      "execution_count": 38,
      "outputs": [
        {
          "output_type": "stream",
          "name": "stderr",
          "text": [
            "/usr/local/lib/python3.8/dist-packages/sklearn/preprocessing/_data.py:2590: UserWarning: n_quantiles (1000) is greater than the total number of samples (112). n_quantiles is set to n_samples.\n",
            "  warnings.warn(\n"
          ]
        },
        {
          "output_type": "execute_result",
          "data": {
            "text/plain": [
              "array([4.3, 5.1, 5.8, 6.5, 7.9])"
            ]
          },
          "metadata": {},
          "execution_count": 38
        }
      ]
    },
    {
      "cell_type": "code",
      "metadata": {
        "id": "pi6U62-Z0Xf5",
        "colab": {
          "base_uri": "https://localhost:8080/",
          "height": 281
        },
        "outputId": "51228402-f9ca-45ce-8cee-dd9d5a4d2491"
      },
      "source": [
        "plt.figure(figsize=(10,4))\n",
        "plt.subplot(1,2,1), plt.hist(X_train[:,0],21), plt.title('Sin ecualizar')\n",
        "plt.subplot(1,2,2), plt.hist(X_train_trans[:,0],21), plt.title('Ecualizado');"
      ],
      "execution_count": 39,
      "outputs": [
        {
          "output_type": "display_data",
          "data": {
            "text/plain": [
              "<Figure size 720x288 with 2 Axes>"
            ],
            "image/png": "[encoded data removed]"
          },
          "metadata": {
            "needs_background": "light"
          }
        }
      ]
    },
    {
      "cell_type": "markdown",
      "metadata": {
        "id": "em3YWQIY0m9P"
      },
      "source": [
        "#### Ejercicio: \n",
        "Transforma los datos de train para que tengan distribucion Gaussiana"
      ]
    },
    {
      "cell_type": "code",
      "metadata": {
        "id": "gOEjOkJUAATY",
        "colab": {
          "base_uri": "https://localhost:8080/",
          "height": 336
        },
        "outputId": "fef7ce45-3302-46fb-aa8b-18a369402ff4"
      },
      "source": [
        "X = iris.data\n",
        "y = iris.target\n",
        "\n",
        "X_train, X_test, y_train, y_test = train_test_split(X, y, random_state=0)\n",
        "\n",
        "quantile_transformer = preprocessing.QuantileTransformer(random_state=0, output_distribution = 'normal')\n",
        "\n",
        "X_train_trans = quantile_transformer.fit_transform(X_train)\n",
        "X_test_trans = quantile_transformer.transform(X_test)\n",
        "\n",
        "np.percentile(X_train[:, 0], [0, 25, 50, 75, 100])\n",
        "\n",
        "plt.figure(figsize=(10,4))\n",
        "plt.subplot(1,2,1), plt.hist(X_train[:,0],21), plt.title('Sin ecualizar')\n",
        "plt.subplot(1,2,2), plt.hist(X_train_trans[:,0],21), plt.title('Ecualizado');"
      ],
      "execution_count": 40,
      "outputs": [
        {
          "output_type": "stream",
          "name": "stderr",
          "text": [
            "/usr/local/lib/python3.8/dist-packages/sklearn/preprocessing/_data.py:2590: UserWarning: n_quantiles (1000) is greater than the total number of samples (112). n_quantiles is set to n_samples.\n",
            "  warnings.warn(\n"
          ]
        },
        {
          "output_type": "display_data",
          "data": {
            "text/plain": [
              "<Figure size 720x288 with 2 Axes>"
            ],
            "image/png": "[encoded data removed]"
          },
          "metadata": {
            "needs_background": "light"
          }
        }
      ]
    },
    {
      "cell_type": "markdown",
      "metadata": {
        "id": "D7-tmWZw0zBK"
      },
      "source": [
        "#### Ejercicio: \n",
        "Transforma los datos de test utilizando la transformacion de los datos de train"
      ]
    },
    {
      "cell_type": "code",
      "metadata": {
        "id": "apXexV75AA4p",
        "colab": {
          "base_uri": "https://localhost:8080/",
          "height": 336
        },
        "outputId": "a8084384-c8bd-43e3-c06d-8c848d1aaa17"
      },
      "source": [
        "X = iris.data\n",
        "y = iris.target\n",
        "\n",
        "X_train, X_test, y_train, y_test = train_test_split(X, y, random_state=0)\n",
        "\n",
        "quantile_transformer = preprocessing.QuantileTransformer(random_state=0, output_distribution = 'normal')\n",
        "\n",
        "X_train_trans = quantile_transformer.fit_transform(X_train)\n",
        "X_test_trans = quantile_transformer.transform(X_test)\n",
        "\n",
        "np.percentile(X_train[:, 0], [0, 25, 50, 75, 100])\n",
        "\n",
        "plt.figure(figsize=(10,4))\n",
        "plt.subplot(1,2,1), plt.hist(X_train[:,0],21), plt.title('Sin ecualizar')\n",
        "plt.subplot(1,2,2), plt.hist(X_train_trans[:,0],21), plt.title('Ecualizado');"
      ],
      "execution_count": 41,
      "outputs": [
        {
          "output_type": "stream",
          "name": "stderr",
          "text": [
            "/usr/local/lib/python3.8/dist-packages/sklearn/preprocessing/_data.py:2590: UserWarning: n_quantiles (1000) is greater than the total number of samples (112). n_quantiles is set to n_samples.\n",
            "  warnings.warn(\n"
          ]
        },
        {
          "output_type": "display_data",
          "data": {
            "text/plain": [
              "<Figure size 720x288 with 2 Axes>"
            ],
            "image/png": "[encoded data removed]"
          },
          "metadata": {
            "needs_background": "light"
          }
        }
      ]
    },
    {
      "cell_type": "markdown",
      "metadata": {
        "id": "8Q2T9J9l_iVC"
      },
      "source": [
        "#### Ejercicio: \n",
        "¿Cómo se haría en más dimensiones?"
      ]
    },
    {
      "cell_type": "code",
      "metadata": {
        "id": "85a2P3QxABbr",
        "colab": {
          "base_uri": "https://localhost:8080/",
          "height": 282
        },
        "outputId": "7208d340-ad29-4924-d294-77d9108a1fca"
      },
      "source": [
        "plt.plot(X_train[:,0],X_train[:,2],'.')"
      ],
      "execution_count": 42,
      "outputs": [
        {
          "output_type": "execute_result",
          "data": {
            "text/plain": [
              "[<matplotlib.lines.Line2D at 0x7f92327a10a0>]"
            ]
          },
          "metadata": {},
          "execution_count": 42
        },
        {
          "output_type": "display_data",
          "data": {
            "text/plain": [
              "<Figure size 432x288 with 1 Axes>"
            ],
            "image/png": "[encoded data removed]"
          },
          "metadata": {
            "needs_background": "light"
          }
        }
      ]
    },
    {
      "cell_type": "code",
      "source": [
        "plt.plot(X_train_trans[:,0],X_train_trans[:,2],'.')"
      ],
      "metadata": {
        "colab": {
          "base_uri": "https://localhost:8080/",
          "height": 282
        },
        "id": "5DK_WnpIY1dM",
        "outputId": "9b663d54-88cf-4ef8-80b8-e68e32eab50d"
      },
      "execution_count": 43,
      "outputs": [
        {
          "output_type": "execute_result",
          "data": {
            "text/plain": [
              "[<matplotlib.lines.Line2D at 0x7f9232793f40>]"
            ]
          },
          "metadata": {},
          "execution_count": 43
        },
        {
          "output_type": "display_data",
          "data": {
            "text/plain": [
              "<Figure size 432x288 with 1 Axes>"
            ],
            "image/png": "[encoded data removed]"
          },
          "metadata": {
            "needs_background": "light"
          }
        }
      ]
    },
    {
      "cell_type": "code",
      "source": [
        "X = iris.data\n",
        "y = iris.target\n",
        "\n",
        "X_train, X_test, y_train, y_test = train_test_split(X, y, random_state=0)\n",
        "\n",
        "quantile_transformer = preprocessing.QuantileTransformer(random_state=0, output_distribution = 'normal')\n",
        "\n",
        "X_train_trans = quantile_transformer.fit_transform(X_train)\n",
        "X_test_trans = quantile_transformer.transform(X_test)\n",
        "\n",
        "np.percentile(X_train[:, 0], [0, 25, 50, 75, 100])\n",
        "np.percentile(X_train[:, 2], [0, 25, 50, 75, 100])\n",
        "\n",
        "plt.figure(figsize=(10,4))\n",
        "plt.subplot(1,2,1), plt.hist(X_train[:,0],X_train[:,2],'.'), plt.title('Sin ecualizar')\n",
        "plt.subplot(1,2,2), plt.hist(X_train_trans[:,0],X_train[:,2],'.'), plt.title('Ecualizado');"
      ],
      "metadata": {
        "id": "fFuPxs1vyUB0",
        "colab": {
          "base_uri": "https://localhost:8080/",
          "height": 739
        },
        "outputId": "009fbf9c-662b-4226-ba97-f36d180fbdd2"
      },
      "execution_count": 44,
      "outputs": [
        {
          "output_type": "stream",
          "name": "stderr",
          "text": [
            "/usr/local/lib/python3.8/dist-packages/sklearn/preprocessing/_data.py:2590: UserWarning: n_quantiles (1000) is greater than the total number of samples (112). n_quantiles is set to n_samples.\n",
            "  warnings.warn(\n"
          ]
        },
        {
          "output_type": "error",
          "ename": "ConversionError",
          "evalue": "ignored",
          "traceback": [
            "\u001b[0;31m---------------------------------------------------------------------------\u001b[0m",
            "\u001b[0;31mValueError\u001b[0m                                Traceback (most recent call last)",
            "\u001b[0;32m/usr/local/lib/python3.8/dist-packages/matplotlib/axis.py\u001b[0m in \u001b[0;36mconvert_units\u001b[0;34m(self, x)\u001b[0m\n\u001b[1;32m   1572\u001b[0m         \u001b[0;32mtry\u001b[0m\u001b[0;34m:\u001b[0m\u001b[0;34m\u001b[0m\u001b[0;34m\u001b[0m\u001b[0m\n\u001b[0;32m-> 1573\u001b[0;31m             \u001b[0mret\u001b[0m \u001b[0;34m=\u001b[0m \u001b[0mself\u001b[0m\u001b[0;34m.\u001b[0m\u001b[0mconverter\u001b[0m\u001b[0;34m.\u001b[0m\u001b[0mconvert\u001b[0m\u001b[0;34m(\u001b[0m\u001b[0mx\u001b[0m\u001b[0;34m,\u001b[0m \u001b[0mself\u001b[0m\u001b[0;34m.\u001b[0m\u001b[0munits\u001b[0m\u001b[0;34m,\u001b[0m \u001b[0mself\u001b[0m\u001b[0;34m)\u001b[0m\u001b[0;34m\u001b[0m\u001b[0;34m\u001b[0m\u001b[0m\n\u001b[0m\u001b[1;32m   1574\u001b[0m         \u001b[0;32mexcept\u001b[0m \u001b[0mException\u001b[0m \u001b[0;32mas\u001b[0m \u001b[0me\u001b[0m\u001b[0;34m:\u001b[0m\u001b[0;34m\u001b[0m\u001b[0;34m\u001b[0m\u001b[0m\n",
            "\u001b[0;32m/usr/local/lib/python3.8/dist-packages/matplotlib/category.py\u001b[0m in \u001b[0;36mconvert\u001b[0;34m(value, unit, axis)\u001b[0m\n\u001b[1;32m     48\u001b[0m         \u001b[0;32mif\u001b[0m \u001b[0munit\u001b[0m \u001b[0;32mis\u001b[0m \u001b[0;32mNone\u001b[0m\u001b[0;34m:\u001b[0m\u001b[0;34m\u001b[0m\u001b[0;34m\u001b[0m\u001b[0m\n\u001b[0;32m---> 49\u001b[0;31m             raise ValueError(\n\u001b[0m\u001b[1;32m     50\u001b[0m                 \u001b[0;34m'Missing category information for StrCategoryConverter; '\u001b[0m\u001b[0;34m\u001b[0m\u001b[0;34m\u001b[0m\u001b[0m\n",
            "\u001b[0;31mValueError\u001b[0m: Missing category information for StrCategoryConverter; this might be caused by unintendedly mixing categorical and numeric data",
            "\nThe above exception was the direct cause of the following exception:\n",
            "\u001b[0;31mConversionError\u001b[0m                           Traceback (most recent call last)",
            "\u001b[0;32m<ipython-input-44-17ef225eed2d>\u001b[0m in \u001b[0;36m<module>\u001b[0;34m\u001b[0m\n\u001b[1;32m     13\u001b[0m \u001b[0;34m\u001b[0m\u001b[0m\n\u001b[1;32m     14\u001b[0m \u001b[0mplt\u001b[0m\u001b[0;34m.\u001b[0m\u001b[0mfigure\u001b[0m\u001b[0;34m(\u001b[0m\u001b[0mfigsize\u001b[0m\u001b[0;34m=\u001b[0m\u001b[0;34m(\u001b[0m\u001b[0;36m10\u001b[0m\u001b[0;34m,\u001b[0m\u001b[0;36m4\u001b[0m\u001b[0;34m)\u001b[0m\u001b[0;34m)\u001b[0m\u001b[0;34m\u001b[0m\u001b[0;34m\u001b[0m\u001b[0m\n\u001b[0;32m---> 15\u001b[0;31m \u001b[0mplt\u001b[0m\u001b[0;34m.\u001b[0m\u001b[0msubplot\u001b[0m\u001b[0;34m(\u001b[0m\u001b[0;36m1\u001b[0m\u001b[0;34m,\u001b[0m\u001b[0;36m2\u001b[0m\u001b[0;34m,\u001b[0m\u001b[0;36m1\u001b[0m\u001b[0;34m)\u001b[0m\u001b[0;34m,\u001b[0m \u001b[0mplt\u001b[0m\u001b[0;34m.\u001b[0m\u001b[0mhist\u001b[0m\u001b[0;34m(\u001b[0m\u001b[0mX_train\u001b[0m\u001b[0;34m[\u001b[0m\u001b[0;34m:\u001b[0m\u001b[0;34m,\u001b[0m\u001b[0;36m0\u001b[0m\u001b[0;34m]\u001b[0m\u001b[0;34m,\u001b[0m\u001b[0mX_train\u001b[0m\u001b[0;34m[\u001b[0m\u001b[0;34m:\u001b[0m\u001b[0;34m,\u001b[0m\u001b[0;36m2\u001b[0m\u001b[0;34m]\u001b[0m\u001b[0;34m,\u001b[0m\u001b[0;34m'.'\u001b[0m\u001b[0;34m)\u001b[0m\u001b[0;34m,\u001b[0m \u001b[0mplt\u001b[0m\u001b[0;34m.\u001b[0m\u001b[0mtitle\u001b[0m\u001b[0;34m(\u001b[0m\u001b[0;34m'Sin ecualizar'\u001b[0m\u001b[0;34m)\u001b[0m\u001b[0;34m\u001b[0m\u001b[0;34m\u001b[0m\u001b[0m\n\u001b[0m\u001b[1;32m     16\u001b[0m \u001b[0mplt\u001b[0m\u001b[0;34m.\u001b[0m\u001b[0msubplot\u001b[0m\u001b[0;34m(\u001b[0m\u001b[0;36m1\u001b[0m\u001b[0;34m,\u001b[0m\u001b[0;36m2\u001b[0m\u001b[0;34m,\u001b[0m\u001b[0;36m2\u001b[0m\u001b[0;34m)\u001b[0m\u001b[0;34m,\u001b[0m \u001b[0mplt\u001b[0m\u001b[0;34m.\u001b[0m\u001b[0mhist\u001b[0m\u001b[0;34m(\u001b[0m\u001b[0mX_train_trans\u001b[0m\u001b[0;34m[\u001b[0m\u001b[0;34m:\u001b[0m\u001b[0;34m,\u001b[0m\u001b[0;36m0\u001b[0m\u001b[0;34m]\u001b[0m\u001b[0;34m,\u001b[0m\u001b[0mX_train\u001b[0m\u001b[0;34m[\u001b[0m\u001b[0;34m:\u001b[0m\u001b[0;34m,\u001b[0m\u001b[0;36m2\u001b[0m\u001b[0;34m]\u001b[0m\u001b[0;34m,\u001b[0m\u001b[0;34m'.'\u001b[0m\u001b[0;34m)\u001b[0m\u001b[0;34m,\u001b[0m \u001b[0mplt\u001b[0m\u001b[0;34m.\u001b[0m\u001b[0mtitle\u001b[0m\u001b[0;34m(\u001b[0m\u001b[0;34m'Ecualizado'\u001b[0m\u001b[0;34m)\u001b[0m\u001b[0;34m;\u001b[0m\u001b[0;34m\u001b[0m\u001b[0;34m\u001b[0m\u001b[0m\n",
            "\u001b[0;32m/usr/local/lib/python3.8/dist-packages/matplotlib/pyplot.py\u001b[0m in \u001b[0;36mhist\u001b[0;34m(x, bins, range, density, weights, cumulative, bottom, histtype, align, orientation, rwidth, log, color, label, stacked, data, **kwargs)\u001b[0m\n\u001b[1;32m   2603\u001b[0m         \u001b[0morientation\u001b[0m\u001b[0;34m=\u001b[0m\u001b[0;34m'vertical'\u001b[0m\u001b[0;34m,\u001b[0m \u001b[0mrwidth\u001b[0m\u001b[0;34m=\u001b[0m\u001b[0;32mNone\u001b[0m\u001b[0;34m,\u001b[0m \u001b[0mlog\u001b[0m\u001b[0;34m=\u001b[0m\u001b[0;32mFalse\u001b[0m\u001b[0;34m,\u001b[0m \u001b[0mcolor\u001b[0m\u001b[0;34m=\u001b[0m\u001b[0;32mNone\u001b[0m\u001b[0;34m,\u001b[0m\u001b[0;34m\u001b[0m\u001b[0;34m\u001b[0m\u001b[0m\n\u001b[1;32m   2604\u001b[0m         label=None, stacked=False, *, data=None, **kwargs):\n\u001b[0;32m-> 2605\u001b[0;31m     return gca().hist(\n\u001b[0m\u001b[1;32m   2606\u001b[0m         \u001b[0mx\u001b[0m\u001b[0;34m,\u001b[0m \u001b[0mbins\u001b[0m\u001b[0;34m=\u001b[0m\u001b[0mbins\u001b[0m\u001b[0;34m,\u001b[0m \u001b[0mrange\u001b[0m\u001b[0;34m=\u001b[0m\u001b[0mrange\u001b[0m\u001b[0;34m,\u001b[0m \u001b[0mdensity\u001b[0m\u001b[0;34m=\u001b[0m\u001b[0mdensity\u001b[0m\u001b[0;34m,\u001b[0m \u001b[0mweights\u001b[0m\u001b[0;34m=\u001b[0m\u001b[0mweights\u001b[0m\u001b[0;34m,\u001b[0m\u001b[0;34m\u001b[0m\u001b[0;34m\u001b[0m\u001b[0m\n\u001b[1;32m   2607\u001b[0m         \u001b[0mcumulative\u001b[0m\u001b[0;34m=\u001b[0m\u001b[0mcumulative\u001b[0m\u001b[0;34m,\u001b[0m \u001b[0mbottom\u001b[0m\u001b[0;34m=\u001b[0m\u001b[0mbottom\u001b[0m\u001b[0;34m,\u001b[0m \u001b[0mhisttype\u001b[0m\u001b[0;34m=\u001b[0m\u001b[0mhisttype\u001b[0m\u001b[0;34m,\u001b[0m\u001b[0;34m\u001b[0m\u001b[0;34m\u001b[0m\u001b[0m\n",
            "\u001b[0;32m/usr/local/lib/python3.8/dist-packages/matplotlib/__init__.py\u001b[0m in \u001b[0;36minner\u001b[0;34m(ax, data, *args, **kwargs)\u001b[0m\n\u001b[1;32m   1563\u001b[0m     \u001b[0;32mdef\u001b[0m \u001b[0minner\u001b[0m\u001b[0;34m(\u001b[0m\u001b[0max\u001b[0m\u001b[0;34m,\u001b[0m \u001b[0;34m*\u001b[0m\u001b[0margs\u001b[0m\u001b[0;34m,\u001b[0m \u001b[0mdata\u001b[0m\u001b[0;34m=\u001b[0m\u001b[0;32mNone\u001b[0m\u001b[0;34m,\u001b[0m \u001b[0;34m**\u001b[0m\u001b[0mkwargs\u001b[0m\u001b[0;34m)\u001b[0m\u001b[0;34m:\u001b[0m\u001b[0;34m\u001b[0m\u001b[0;34m\u001b[0m\u001b[0m\n\u001b[1;32m   1564\u001b[0m         \u001b[0;32mif\u001b[0m \u001b[0mdata\u001b[0m \u001b[0;32mis\u001b[0m \u001b[0;32mNone\u001b[0m\u001b[0;34m:\u001b[0m\u001b[0;34m\u001b[0m\u001b[0;34m\u001b[0m\u001b[0m\n\u001b[0;32m-> 1565\u001b[0;31m             \u001b[0;32mreturn\u001b[0m \u001b[0mfunc\u001b[0m\u001b[0;34m(\u001b[0m\u001b[0max\u001b[0m\u001b[0;34m,\u001b[0m \u001b[0;34m*\u001b[0m\u001b[0mmap\u001b[0m\u001b[0;34m(\u001b[0m\u001b[0msanitize_sequence\u001b[0m\u001b[0;34m,\u001b[0m \u001b[0margs\u001b[0m\u001b[0;34m)\u001b[0m\u001b[0;34m,\u001b[0m \u001b[0;34m**\u001b[0m\u001b[0mkwargs\u001b[0m\u001b[0;34m)\u001b[0m\u001b[0;34m\u001b[0m\u001b[0;34m\u001b[0m\u001b[0m\n\u001b[0m\u001b[1;32m   1566\u001b[0m \u001b[0;34m\u001b[0m\u001b[0m\n\u001b[1;32m   1567\u001b[0m         \u001b[0mbound\u001b[0m \u001b[0;34m=\u001b[0m \u001b[0mnew_sig\u001b[0m\u001b[0;34m.\u001b[0m\u001b[0mbind\u001b[0m\u001b[0;34m(\u001b[0m\u001b[0max\u001b[0m\u001b[0;34m,\u001b[0m \u001b[0;34m*\u001b[0m\u001b[0margs\u001b[0m\u001b[0;34m,\u001b[0m \u001b[0;34m**\u001b[0m\u001b[0mkwargs\u001b[0m\u001b[0;34m)\u001b[0m\u001b[0;34m\u001b[0m\u001b[0;34m\u001b[0m\u001b[0m\n",
            "\u001b[0;32m/usr/local/lib/python3.8/dist-packages/matplotlib/axes/_axes.py\u001b[0m in \u001b[0;36mhist\u001b[0;34m(self, x, bins, range, density, weights, cumulative, bottom, histtype, align, orientation, rwidth, log, color, label, stacked, **kwargs)\u001b[0m\n\u001b[1;32m   6587\u001b[0m \u001b[0;34m\u001b[0m\u001b[0m\n\u001b[1;32m   6588\u001b[0m         \u001b[0;32mif\u001b[0m \u001b[0mbin_range\u001b[0m \u001b[0;32mis\u001b[0m \u001b[0;32mnot\u001b[0m \u001b[0;32mNone\u001b[0m\u001b[0;34m:\u001b[0m\u001b[0;34m\u001b[0m\u001b[0;34m\u001b[0m\u001b[0m\n\u001b[0;32m-> 6589\u001b[0;31m             \u001b[0mbin_range\u001b[0m \u001b[0;34m=\u001b[0m \u001b[0mself\u001b[0m\u001b[0;34m.\u001b[0m\u001b[0mconvert_xunits\u001b[0m\u001b[0;34m(\u001b[0m\u001b[0mbin_range\u001b[0m\u001b[0;34m)\u001b[0m\u001b[0;34m\u001b[0m\u001b[0;34m\u001b[0m\u001b[0m\n\u001b[0m\u001b[1;32m   6590\u001b[0m \u001b[0;34m\u001b[0m\u001b[0m\n\u001b[1;32m   6591\u001b[0m         \u001b[0;32mif\u001b[0m \u001b[0;32mnot\u001b[0m \u001b[0mcbook\u001b[0m\u001b[0;34m.\u001b[0m\u001b[0mis_scalar_or_string\u001b[0m\u001b[0;34m(\u001b[0m\u001b[0mbins\u001b[0m\u001b[0;34m)\u001b[0m\u001b[0;34m:\u001b[0m\u001b[0;34m\u001b[0m\u001b[0;34m\u001b[0m\u001b[0m\n",
            "\u001b[0;32m/usr/local/lib/python3.8/dist-packages/matplotlib/artist.py\u001b[0m in \u001b[0;36mconvert_xunits\u001b[0;34m(self, x)\u001b[0m\n\u001b[1;32m    176\u001b[0m         \u001b[0;32mif\u001b[0m \u001b[0max\u001b[0m \u001b[0;32mis\u001b[0m \u001b[0;32mNone\u001b[0m \u001b[0;32mor\u001b[0m \u001b[0max\u001b[0m\u001b[0;34m.\u001b[0m\u001b[0mxaxis\u001b[0m \u001b[0;32mis\u001b[0m \u001b[0;32mNone\u001b[0m\u001b[0;34m:\u001b[0m\u001b[0;34m\u001b[0m\u001b[0;34m\u001b[0m\u001b[0m\n\u001b[1;32m    177\u001b[0m             \u001b[0;32mreturn\u001b[0m \u001b[0mx\u001b[0m\u001b[0;34m\u001b[0m\u001b[0;34m\u001b[0m\u001b[0m\n\u001b[0;32m--> 178\u001b[0;31m         \u001b[0;32mreturn\u001b[0m \u001b[0max\u001b[0m\u001b[0;34m.\u001b[0m\u001b[0mxaxis\u001b[0m\u001b[0;34m.\u001b[0m\u001b[0mconvert_units\u001b[0m\u001b[0;34m(\u001b[0m\u001b[0mx\u001b[0m\u001b[0;34m)\u001b[0m\u001b[0;34m\u001b[0m\u001b[0;34m\u001b[0m\u001b[0m\n\u001b[0m\u001b[1;32m    179\u001b[0m \u001b[0;34m\u001b[0m\u001b[0m\n\u001b[1;32m    180\u001b[0m     \u001b[0;32mdef\u001b[0m \u001b[0mconvert_yunits\u001b[0m\u001b[0;34m(\u001b[0m\u001b[0mself\u001b[0m\u001b[0;34m,\u001b[0m \u001b[0my\u001b[0m\u001b[0;34m)\u001b[0m\u001b[0;34m:\u001b[0m\u001b[0;34m\u001b[0m\u001b[0;34m\u001b[0m\u001b[0m\n",
            "\u001b[0;32m/usr/local/lib/python3.8/dist-packages/matplotlib/axis.py\u001b[0m in \u001b[0;36mconvert_units\u001b[0;34m(self, x)\u001b[0m\n\u001b[1;32m   1573\u001b[0m             \u001b[0mret\u001b[0m \u001b[0;34m=\u001b[0m \u001b[0mself\u001b[0m\u001b[0;34m.\u001b[0m\u001b[0mconverter\u001b[0m\u001b[0;34m.\u001b[0m\u001b[0mconvert\u001b[0m\u001b[0;34m(\u001b[0m\u001b[0mx\u001b[0m\u001b[0;34m,\u001b[0m \u001b[0mself\u001b[0m\u001b[0;34m.\u001b[0m\u001b[0munits\u001b[0m\u001b[0;34m,\u001b[0m \u001b[0mself\u001b[0m\u001b[0;34m)\u001b[0m\u001b[0;34m\u001b[0m\u001b[0;34m\u001b[0m\u001b[0m\n\u001b[1;32m   1574\u001b[0m         \u001b[0;32mexcept\u001b[0m \u001b[0mException\u001b[0m \u001b[0;32mas\u001b[0m \u001b[0me\u001b[0m\u001b[0;34m:\u001b[0m\u001b[0;34m\u001b[0m\u001b[0;34m\u001b[0m\u001b[0m\n\u001b[0;32m-> 1575\u001b[0;31m             raise munits.ConversionError('Failed to convert value(s) to axis '\n\u001b[0m\u001b[1;32m   1576\u001b[0m                                          f'units: {x!r}') from e\n\u001b[1;32m   1577\u001b[0m         \u001b[0;32mreturn\u001b[0m \u001b[0mret\u001b[0m\u001b[0;34m\u001b[0m\u001b[0;34m\u001b[0m\u001b[0m\n",
            "\u001b[0;31mConversionError\u001b[0m: Failed to convert value(s) to axis units: '.'"
          ]
        },
        {
          "output_type": "display_data",
          "data": {
            "text/plain": [
              "<Figure size 720x288 with 1 Axes>"
            ],
            "image/png": "[encoded data removed]"
          },
          "metadata": {
            "needs_background": "light"
          }
        }
      ]
    },
    {
      "cell_type": "code",
      "metadata": {
        "id": "wfZDQTrIG82h",
        "colab": {
          "base_uri": "https://localhost:8080/",
          "height": 282
        },
        "outputId": "e6330343-240e-48dc-ebb4-11de8c4c6723"
      },
      "source": [
        "plt.plot(X_train_trans[:,0],X_train_trans[:,2],'.')"
      ],
      "execution_count": 45,
      "outputs": [
        {
          "output_type": "execute_result",
          "data": {
            "text/plain": [
              "[<matplotlib.lines.Line2D at 0x7f9232c27520>]"
            ]
          },
          "metadata": {},
          "execution_count": 45
        },
        {
          "output_type": "display_data",
          "data": {
            "text/plain": [
              "<Figure size 432x288 with 1 Axes>"
            ],
            "image/png": "[encoded data removed]"
          },
          "metadata": {
            "needs_background": "light"
          }
        }
      ]
    },
    {
      "cell_type": "code",
      "metadata": {
        "id": "C2gpmv4hHEEK",
        "colab": {
          "base_uri": "https://localhost:8080/",
          "height": 404
        },
        "outputId": "44f80d25-27e7-435e-ec3b-2fe8bf0aede3"
      },
      "source": [
        "plt.hist(X_train_trans[:,2],21)"
      ],
      "execution_count": 46,
      "outputs": [
        {
          "output_type": "execute_result",
          "data": {
            "text/plain": [
              "(array([ 1.,  0.,  0.,  0.,  0.,  0.,  2.,  5., 20., 18., 20., 21., 14.,\n",
              "         6.,  4.,  0.,  0.,  0.,  0.,  0.,  1.]),\n",
              " array([-5.19933758, -4.70416257, -4.20898757, -3.71381256, -3.21863755,\n",
              "        -2.72346254, -2.22828754, -1.73311253, -1.23793752, -0.74276251,\n",
              "        -0.2475875 ,  0.2475875 ,  0.74276251,  1.23793752,  1.73311253,\n",
              "         2.22828754,  2.72346254,  3.21863755,  3.71381256,  4.20898757,\n",
              "         4.70416257,  5.19933758]),\n",
              " <a list of 21 Patch objects>)"
            ]
          },
          "metadata": {},
          "execution_count": 46
        },
        {
          "output_type": "display_data",
          "data": {
            "text/plain": [
              "<Figure size 432x288 with 1 Axes>"
            ],
            "image/png": "[encoded data removed]"
          },
          "metadata": {
            "needs_background": "light"
          }
        }
      ]
    },
    {
      "cell_type": "markdown",
      "metadata": {
        "id": "03KZeecdEbK_"
      },
      "source": [
        "#### Ejercicio extra: \n",
        "Visualiza que le pasa a una imágen cuando se ecualizan los valores de los pixels."
      ]
    },
    {
      "cell_type": "code",
      "metadata": {
        "id": "2PfkiKecEbLJ"
      },
      "source": [],
      "execution_count": null,
      "outputs": []
    },
    {
      "cell_type": "markdown",
      "metadata": {
        "id": "a04Y0roUQyfh"
      },
      "source": [
        "# Parte 2 - Métodos selección y extracción de características"
      ]
    },
    {
      "cell_type": "markdown",
      "metadata": {
        "id": "vXzReJ4NQskt"
      },
      "source": [
        "# Selección de caraterísticas mediante métodos *filter*"
      ]
    },
    {
      "cell_type": "markdown",
      "metadata": {
        "id": "AJYOcHCaQskt"
      },
      "source": [
        "## Correlación entre las variables de entrada y la de salida\n",
        "### El método consiste en ver qué variables de entrada están más correlacionadas con la salida y escoger aquellas con mayor correlación\n",
        "### Seguimos con el dataset IRIS"
      ]
    },
    {
      "cell_type": "code",
      "metadata": {
        "id": "7o0b6LRHQskt",
        "colab": {
          "base_uri": "https://localhost:8080/"
        },
        "outputId": "d70e2711-4e18-4bac-a422-4700744a43f3"
      },
      "source": [
        "X, y = load_iris(return_X_y=True)\n",
        "print(X)"
      ],
      "execution_count": 47,
      "outputs": [
        {
          "output_type": "stream",
          "name": "stdout",
          "text": [
            "[[5.1 3.5 1.4 0.2]\n",
            " [4.9 3.  1.4 0.2]\n",
            " [4.7 3.2 1.3 0.2]\n",
            " [4.6 3.1 1.5 0.2]\n",
            " [5.  3.6 1.4 0.2]\n",
            " [5.4 3.9 1.7 0.4]\n",
            " [4.6 3.4 1.4 0.3]\n",
            " [5.  3.4 1.5 0.2]\n",
            " [4.4 2.9 1.4 0.2]\n",
            " [4.9 3.1 1.5 0.1]\n",
            " [5.4 3.7 1.5 0.2]\n",
            " [4.8 3.4 1.6 0.2]\n",
            " [4.8 3.  1.4 0.1]\n",
            " [4.3 3.  1.1 0.1]\n",
            " [5.8 4.  1.2 0.2]\n",
            " [5.7 4.4 1.5 0.4]\n",
            " [5.4 3.9 1.3 0.4]\n",
            " [5.1 3.5 1.4 0.3]\n",
            " [5.7 3.8 1.7 0.3]\n",
            " [5.1 3.8 1.5 0.3]\n",
            " [5.4 3.4 1.7 0.2]\n",
            " [5.1 3.7 1.5 0.4]\n",
            " [4.6 3.6 1.  0.2]\n",
            " [5.1 3.3 1.7 0.5]\n",
            " [4.8 3.4 1.9 0.2]\n",
            " [5.  3.  1.6 0.2]\n",
            " [5.  3.4 1.6 0.4]\n",
            " [5.2 3.5 1.5 0.2]\n",
            " [5.2 3.4 1.4 0.2]\n",
            " [4.7 3.2 1.6 0.2]\n",
            " [4.8 3.1 1.6 0.2]\n",
            " [5.4 3.4 1.5 0.4]\n",
            " [5.2 4.1 1.5 0.1]\n",
            " [5.5 4.2 1.4 0.2]\n",
            " [4.9 3.1 1.5 0.2]\n",
            " [5.  3.2 1.2 0.2]\n",
            " [5.5 3.5 1.3 0.2]\n",
            " [4.9 3.6 1.4 0.1]\n",
            " [4.4 3.  1.3 0.2]\n",
            " [5.1 3.4 1.5 0.2]\n",
            " [5.  3.5 1.3 0.3]\n",
            " [4.5 2.3 1.3 0.3]\n",
            " [4.4 3.2 1.3 0.2]\n",
            " [5.  3.5 1.6 0.6]\n",
            " [5.1 3.8 1.9 0.4]\n",
            " [4.8 3.  1.4 0.3]\n",
            " [5.1 3.8 1.6 0.2]\n",
            " [4.6 3.2 1.4 0.2]\n",
            " [5.3 3.7 1.5 0.2]\n",
            " [5.  3.3 1.4 0.2]\n",
            " [7.  3.2 4.7 1.4]\n",
            " [6.4 3.2 4.5 1.5]\n",
            " [6.9 3.1 4.9 1.5]\n",
            " [5.5 2.3 4.  1.3]\n",
            " [6.5 2.8 4.6 1.5]\n",
            " [5.7 2.8 4.5 1.3]\n",
            " [6.3 3.3 4.7 1.6]\n",
            " [4.9 2.4 3.3 1. ]\n",
            " [6.6 2.9 4.6 1.3]\n",
            " [5.2 2.7 3.9 1.4]\n",
            " [5.  2.  3.5 1. ]\n",
            " [5.9 3.  4.2 1.5]\n",
            " [6.  2.2 4.  1. ]\n",
            " [6.1 2.9 4.7 1.4]\n",
            " [5.6 2.9 3.6 1.3]\n",
            " [6.7 3.1 4.4 1.4]\n",
            " [5.6 3.  4.5 1.5]\n",
            " [5.8 2.7 4.1 1. ]\n",
            " [6.2 2.2 4.5 1.5]\n",
            " [5.6 2.5 3.9 1.1]\n",
            " [5.9 3.2 4.8 1.8]\n",
            " [6.1 2.8 4.  1.3]\n",
            " [6.3 2.5 4.9 1.5]\n",
            " [6.1 2.8 4.7 1.2]\n",
            " [6.4 2.9 4.3 1.3]\n",
            " [6.6 3.  4.4 1.4]\n",
            " [6.8 2.8 4.8 1.4]\n",
            " [6.7 3.  5.  1.7]\n",
            " [6.  2.9 4.5 1.5]\n",
            " [5.7 2.6 3.5 1. ]\n",
            " [5.5 2.4 3.8 1.1]\n",
            " [5.5 2.4 3.7 1. ]\n",
            " [5.8 2.7 3.9 1.2]\n",
            " [6.  2.7 5.1 1.6]\n",
            " [5.4 3.  4.5 1.5]\n",
            " [6.  3.4 4.5 1.6]\n",
            " [6.7 3.1 4.7 1.5]\n",
            " [6.3 2.3 4.4 1.3]\n",
            " [5.6 3.  4.1 1.3]\n",
            " [5.5 2.5 4.  1.3]\n",
            " [5.5 2.6 4.4 1.2]\n",
            " [6.1 3.  4.6 1.4]\n",
            " [5.8 2.6 4.  1.2]\n",
            " [5.  2.3 3.3 1. ]\n",
            " [5.6 2.7 4.2 1.3]\n",
            " [5.7 3.  4.2 1.2]\n",
            " [5.7 2.9 4.2 1.3]\n",
            " [6.2 2.9 4.3 1.3]\n",
            " [5.1 2.5 3.  1.1]\n",
            " [5.7 2.8 4.1 1.3]\n",
            " [6.3 3.3 6.  2.5]\n",
            " [5.8 2.7 5.1 1.9]\n",
            " [7.1 3.  5.9 2.1]\n",
            " [6.3 2.9 5.6 1.8]\n",
            " [6.5 3.  5.8 2.2]\n",
            " [7.6 3.  6.6 2.1]\n",
            " [4.9 2.5 4.5 1.7]\n",
            " [7.3 2.9 6.3 1.8]\n",
            " [6.7 2.5 5.8 1.8]\n",
            " [7.2 3.6 6.1 2.5]\n",
            " [6.5 3.2 5.1 2. ]\n",
            " [6.4 2.7 5.3 1.9]\n",
            " [6.8 3.  5.5 2.1]\n",
            " [5.7 2.5 5.  2. ]\n",
            " [5.8 2.8 5.1 2.4]\n",
            " [6.4 3.2 5.3 2.3]\n",
            " [6.5 3.  5.5 1.8]\n",
            " [7.7 3.8 6.7 2.2]\n",
            " [7.7 2.6 6.9 2.3]\n",
            " [6.  2.2 5.  1.5]\n",
            " [6.9 3.2 5.7 2.3]\n",
            " [5.6 2.8 4.9 2. ]\n",
            " [7.7 2.8 6.7 2. ]\n",
            " [6.3 2.7 4.9 1.8]\n",
            " [6.7 3.3 5.7 2.1]\n",
            " [7.2 3.2 6.  1.8]\n",
            " [6.2 2.8 4.8 1.8]\n",
            " [6.1 3.  4.9 1.8]\n",
            " [6.4 2.8 5.6 2.1]\n",
            " [7.2 3.  5.8 1.6]\n",
            " [7.4 2.8 6.1 1.9]\n",
            " [7.9 3.8 6.4 2. ]\n",
            " [6.4 2.8 5.6 2.2]\n",
            " [6.3 2.8 5.1 1.5]\n",
            " [6.1 2.6 5.6 1.4]\n",
            " [7.7 3.  6.1 2.3]\n",
            " [6.3 3.4 5.6 2.4]\n",
            " [6.4 3.1 5.5 1.8]\n",
            " [6.  3.  4.8 1.8]\n",
            " [6.9 3.1 5.4 2.1]\n",
            " [6.7 3.1 5.6 2.4]\n",
            " [6.9 3.1 5.1 2.3]\n",
            " [5.8 2.7 5.1 1.9]\n",
            " [6.8 3.2 5.9 2.3]\n",
            " [6.7 3.3 5.7 2.5]\n",
            " [6.7 3.  5.2 2.3]\n",
            " [6.3 2.5 5.  1.9]\n",
            " [6.5 3.  5.2 2. ]\n",
            " [6.2 3.4 5.4 2.3]\n",
            " [5.9 3.  5.1 1.8]]\n"
          ]
        }
      ]
    },
    {
      "cell_type": "markdown",
      "metadata": {
        "id": "LlBvZpKkQskt"
      },
      "source": [
        "#### Ejercicio:\n",
        "Calcula la correlación (`np.corrcoef`) entre las entradas y la salidas. Muestra los valores calculados y selecciona dos de las variables más adecuadas."
      ]
    },
    {
      "cell_type": "code",
      "metadata": {
        "id": "-i_j8qFxQskt",
        "colab": {
          "base_uri": "https://localhost:8080/"
        },
        "outputId": "3e9fd610-89b0-488f-cbcb-584c5f303f43"
      },
      "source": [
        "corr = np.corrcoef(X[:,0],y) [0, 1]\n",
        "\n",
        "print(corr)"
      ],
      "execution_count": 48,
      "outputs": [
        {
          "output_type": "stream",
          "name": "stdout",
          "text": [
            "0.782561231810082\n"
          ]
        }
      ]
    },
    {
      "cell_type": "code",
      "metadata": {
        "id": "rMmhsLTZSdox",
        "colab": {
          "base_uri": "https://localhost:8080/"
        },
        "outputId": "d4b3716e-dca1-47e9-afbf-3c5c5f02a111"
      },
      "source": [
        "corr = np.corrcoef(X[:,1],y) [0, 1]\n",
        "\n",
        "print(corr)"
      ],
      "execution_count": 49,
      "outputs": [
        {
          "output_type": "stream",
          "name": "stdout",
          "text": [
            "-0.4266575607811244\n"
          ]
        }
      ]
    },
    {
      "cell_type": "code",
      "metadata": {
        "id": "dSyH6UWkShsD",
        "colab": {
          "base_uri": "https://localhost:8080/"
        },
        "outputId": "a86efe35-258f-4ea3-f72c-296a019c3d21"
      },
      "source": [
        "corr = np.corrcoef(X[:,2],y) [0, 1]\n",
        "\n",
        "print(corr)"
      ],
      "execution_count": 50,
      "outputs": [
        {
          "output_type": "stream",
          "name": "stdout",
          "text": [
            "0.9490346990083889\n"
          ]
        }
      ]
    },
    {
      "cell_type": "code",
      "metadata": {
        "id": "3onW0JWDSjTs",
        "colab": {
          "base_uri": "https://localhost:8080/"
        },
        "outputId": "b13dd749-c36d-4e00-a33b-2387a7a943ea"
      },
      "source": [
        "corr = np.corrcoef(X[:,3],y) [0, 1]\n",
        "\n",
        "print(corr)"
      ],
      "execution_count": 51,
      "outputs": [
        {
          "output_type": "stream",
          "name": "stdout",
          "text": [
            "0.9565473328764034\n"
          ]
        }
      ]
    },
    {
      "cell_type": "markdown",
      "metadata": {
        "id": "1oFqatOsQskw"
      },
      "source": [
        "## Correlación entre variables de entrada\n",
        "### En este caso vamos a descartar variables de entrada que estén muy correlacionadas entre sí, puesto que entendemos que no añaden más información al modelo y pueden perjudicar su rendimiento.\n",
        "#### Por ejemplo si encontramos que las variables `X[:,0]` y `X[:,1]` (dimensiones 1 y 2) están muy correlacionadas descartaremos una de las dos.\n",
        "#### Ejercicio:\n",
        "Calcula la correlación entre todas las variables de entrada y descarta alguna con alta correlación cruzada."
      ]
    },
    {
      "cell_type": "code",
      "metadata": {
        "id": "Qk9f0GGwQskw",
        "colab": {
          "base_uri": "https://localhost:8080/"
        },
        "outputId": "b6dac91f-e61a-4ac3-f745-dac25eb73cad"
      },
      "source": [
        "corr = np.corrcoef(np.transpose(X)) \n",
        "# Hay que descarcar el más grande (la 3 con la 4 y la 4 con la 3)\n",
        "print(corr)\n",
        "#mirar la posición del valor más grande\n",
        "corr2 = np.delete(corr, 3, axis=1)\n",
        "print(corr2)\n",
        "\n"
      ],
      "execution_count": 52,
      "outputs": [
        {
          "output_type": "stream",
          "name": "stdout",
          "text": [
            "[[ 1.         -0.11756978  0.87175378  0.81794113]\n",
            " [-0.11756978  1.         -0.4284401  -0.36612593]\n",
            " [ 0.87175378 -0.4284401   1.          0.96286543]\n",
            " [ 0.81794113 -0.36612593  0.96286543  1.        ]]\n",
            "[[ 1.         -0.11756978  0.87175378]\n",
            " [-0.11756978  1.         -0.4284401 ]\n",
            " [ 0.87175378 -0.4284401   1.        ]\n",
            " [ 0.81794113 -0.36612593  0.96286543]]\n"
          ]
        }
      ]
    },
    {
      "cell_type": "markdown",
      "metadata": {
        "id": "_VKAf8pRQskx"
      },
      "source": [
        "#### Ejercicio\n",
        "Representa gráficamente las relaciones entre variables (puedes usar `plt.imshow`)."
      ]
    },
    {
      "cell_type": "code",
      "metadata": {
        "id": "tnwm3xKGQskx",
        "colab": {
          "base_uri": "https://localhost:8080/",
          "height": 286
        },
        "outputId": "af103805-3c09-47d7-a5f3-b016741d5f0e"
      },
      "source": [
        "plt.imshow(np.corrcoef(X.T))"
      ],
      "execution_count": 54,
      "outputs": [
        {
          "output_type": "execute_result",
          "data": {
            "text/plain": [
              "<matplotlib.image.AxesImage at 0x7f9232b759a0>"
            ]
          },
          "metadata": {},
          "execution_count": 54
        },
        {
          "output_type": "display_data",
          "data": {
            "text/plain": [
              "<Figure size 432x288 with 1 Axes>"
            ],
            "image/png": "[encoded data removed]"
          },
          "metadata": {
            "needs_background": "light"
          }
        }
      ]
    },
    {
      "cell_type": "markdown",
      "metadata": {
        "id": "PG9Seay4Qskx"
      },
      "source": [
        "## Información mutua (MI) entre las variables de entrada y salida"
      ]
    },
    {
      "cell_type": "markdown",
      "metadata": {
        "id": "89fshz46Qskx"
      },
      "source": [
        "### En primer lugar vamos a calcular la MI. Por definición sabemos que la MI entre dos variables **discretas** $X,Y$ viene dada por\n",
        "$$ \\textrm{MI}(X,Y) = \\sum_{y\\in \\mathcal{Y}}\\sum_{x\\in \\mathcal{X}} p(x,y)\\log\\left(\\frac{p(x,y)}{p(x)p(y)}\\right) $$\n",
        "Más info: https://en.wikipedia.org/wiki/Mutual_information"
      ]
    },
    {
      "cell_type": "markdown",
      "metadata": {
        "id": "r5DLrpHYQskx"
      },
      "source": [
        "En primer lugar estimamos la probabilidad para cada clase de la variable de salida. También podemos calcular su entropía que, viene dada por $ J(y)=-\\sum p(y)\\log p(y) $."
      ]
    },
    {
      "cell_type": "code",
      "metadata": {
        "id": "aG4TdHhJQskx",
        "colab": {
          "base_uri": "https://localhost:8080/"
        },
        "outputId": "d9aa8e09-88c0-4bef-a961-7cf05d2b9ee2"
      },
      "source": [
        "# Entropia de las variables //discretas// de salida: J(y) = -sum P(c)log(P(c))\n",
        "classes = np.unique(y)\n",
        "# Probablidad de cada classe\n",
        "py = np.zeros(len(classes))\n",
        "for nc, c in enumerate(classes):\n",
        "    py[c] = np.sum(y == c)\n",
        "# Convertimos en probablididades normalizando por el total\n",
        "py /= np.sum(py)\n",
        "# Calculamos la entropía\n",
        "jy = np.sum(py * np.log(py))\n",
        "print('p(y)', py, 'y entropy', jy)"
      ],
      "execution_count": 55,
      "outputs": [
        {
          "output_type": "stream",
          "name": "stdout",
          "text": [
            "p(y) [0.33333333 0.33333333 0.33333333] y entropy -1.0986122886681096\n"
          ]
        }
      ]
    },
    {
      "cell_type": "markdown",
      "metadata": {
        "id": "9rCd_4KMQsky"
      },
      "source": [
        "### Para poder trabajar con las variables de la entrada tendremos que cuantificarlas dado que son continuas.\n",
        "#### Ejercicio:\n",
        "Utiliza `KBinsDiscretizer` visto en la primera parte para crear una nueva variable `Xd` discretizando la variable `X`. Utiliza 9 bins."
      ]
    },
    {
      "cell_type": "code",
      "metadata": {
        "id": "xeZzTwNBQsky"
      },
      "source": [
        "from sklearn.preprocessing import KBinsDiscretizer\n",
        "# Ejercicio: jugar con distintos bins. Cuanto más, más fino, pero mayor entropía.\n",
        "kbd = KBinsDiscretizer(n_bins=9, encode='ordinal')\n",
        "Xd = kbd.fit_transform(X)"
      ],
      "execution_count": 56,
      "outputs": []
    },
    {
      "cell_type": "markdown",
      "metadata": {
        "id": "7-uqt_qAQsky"
      },
      "source": [
        "#### Ejercicio Resuelto:\n",
        "Completa el siguiente código para estimar p(x) y p(x,y) y así poder calcular la MI entre cada variable de entrada y la salida.\n",
        "<br>Los trozos de código entre `# --------------` son los que debes rellenar."
      ]
    },
    {
      "cell_type": "code",
      "metadata": {
        "id": "-fI8aKXPQsky",
        "colab": {
          "base_uri": "https://localhost:8080/"
        },
        "outputId": "d9c173e1-e3d8-40ba-8080-640cbbf456fd"
      },
      "source": [
        "# Vamos a calcular la MI para cada variable en X\n",
        "nv = Xd.shape[1]\n",
        "mi = np.zeros(nv)\n",
        "# Valores distintos en Xd\n",
        "xvalues = np.unique(Xd)\n",
        "for v in range(nv):\n",
        "    # Calculamos px\n",
        "    px = np.zeros(len(xvalues))\n",
        "    # --------------\n",
        "    for i, value in enumerate(xvalues):\n",
        "        px[i] = np.sum([Xd[:,v] == value])\n",
        "    px /= np.sum(px)\n",
        "    # --------------\n",
        "\n",
        "    # Calculamos pxy\n",
        "    pxy = np.zeros((len(xvalues), len(classes)))\n",
        "    # --------------\n",
        "    for i, value in enumerate(xvalues):\n",
        "        for j, cls in enumerate(classes):\n",
        "            pxy[i,j] = np.sum((Xd[:,v] == value) & (y == cls))\n",
        "    pxy /= np.sum(pxy)\n",
        "    # --------------\n",
        "    \n",
        "    # Calculamos MI: sum_x(sum_y( p(x,y) * log(p(x,y) / (p(x)*p(y)) ))\n",
        "    mi[v] = 0.0\n",
        "    for i in range(pxy.shape[0]):\n",
        "        for j in range(pxy.shape[1]):\n",
        "            # Evitar divisiones por cero y logaritmos = -inf\n",
        "            if pxy[i,j] > 0 and px[i] > 0 and py[j] > 0:\n",
        "                # --------------\n",
        "                mi[v] += pxy[i,j] * np.log(pxy[i,j] / px[i] / py[j])\n",
        "                # --------------\n",
        "\n",
        "print(mi)    "
      ],
      "execution_count": 57,
      "outputs": [
        {
          "output_type": "stream",
          "name": "stdout",
          "text": [
            "[0.5032742  0.31671819 0.98041703 0.97135001]\n"
          ]
        }
      ]
    },
    {
      "cell_type": "markdown",
      "metadata": {
        "id": "nXbGurX9Qsky"
      },
      "source": [
        "#### Ejercicio\n",
        "Compara el resultado obtenido con el de la implementación de scikit learn `sklearn.feature_selection.mutual_info_classif`."
      ]
    },
    {
      "cell_type": "code",
      "metadata": {
        "id": "6R2n84tIQsky",
        "colab": {
          "base_uri": "https://localhost:8080/"
        },
        "outputId": "8a1805f0-16a9-498f-c2f7-e20ce7ca2924"
      },
      "source": [
        "from sklearn.feature_selection import mutual_info_classif\n",
        "\n",
        "sk = mutual_info_classif(X, y)\n",
        "\n",
        "print(sk)"
      ],
      "execution_count": 58,
      "outputs": [
        {
          "output_type": "stream",
          "name": "stdout",
          "text": [
            "[0.48570416 0.27713834 0.98566371 0.98466569]\n"
          ]
        }
      ]
    },
    {
      "cell_type": "markdown",
      "metadata": {
        "id": "fUWui_q4Qsky"
      },
      "source": [
        "### En sci-kit learn tenemos una función para seleccionar las mejores `k` variables, `SelectKBest`. Esto junto con la función `mutual_info_classif` nos permite seleccionar grupos de variables.\n",
        "#### Ejercicio:\n",
        "Utiliza `sklearn.feature_selection.SelectKBest` y `mutual_info_classif` para seleccionar automáticamente las dos mejores variables."
      ]
    },
    {
      "cell_type": "code",
      "metadata": {
        "id": "fxXMQCbIQsky",
        "colab": {
          "base_uri": "https://localhost:8080/"
        },
        "outputId": "8fc76283-0185-4d4e-f278-c7fb38efb42e"
      },
      "source": [
        "from sklearn.feature_selection import SelectKBest\n",
        "Xnew = SelectKBest(mutual_info_classif, k=2).fit_transform(X, y)\n",
        "mutual_info_classif\n",
        "Xnew.shape"
      ],
      "execution_count": 59,
      "outputs": [
        {
          "output_type": "execute_result",
          "data": {
            "text/plain": [
              "(150, 2)"
            ]
          },
          "metadata": {},
          "execution_count": 59
        }
      ]
    },
    {
      "cell_type": "markdown",
      "metadata": {
        "id": "QAZSqBo7Qsky"
      },
      "source": [
        "* Hay otros estadísticos que se pueden usar en problemas de clasificación:\n",
        "    - `chi2`: estadístico $\\chi^2$ (chi cuadrado) entre X, y.\n",
        "    - `f_classif`: Test ANOVA entre X, y.\n",
        "- Para problemas de regression podemos usar `mutual_info_regression` o `f_regression`."
      ]
    },
    {
      "cell_type": "markdown",
      "metadata": {
        "id": "U33hCLaUQsky"
      },
      "source": [
        "## Información Mútua entre variables de entrada\n",
        "### Igual que con la correlación, entre dos variables con MI alto una de ellas podría descartarse.\n",
        "#### Ejercicio:\n",
        "Utiliza `mutual_info_regression` entre cada par de variables de entrada para detectar las que contienen información mútua y descarta una de ellas."
      ]
    },
    {
      "cell_type": "code",
      "metadata": {
        "id": "jCu0QYw7Qsky",
        "colab": {
          "base_uri": "https://localhost:8080/"
        },
        "outputId": "5f0833b5-12d0-471d-db5a-84e0bdf25f48"
      },
      "source": [
        "from sklearn.feature_selection import mutual_info_regression\n",
        "\n",
        "print(mutual_info_regression(X,X[:,0]))\n",
        "print(mutual_info_regression(X,X[:,1]))"
      ],
      "execution_count": 60,
      "outputs": [
        {
          "output_type": "stream",
          "name": "stdout",
          "text": [
            "[3.18986048 0.30587129 0.88024532 0.57140037]\n",
            "[0.31389113 2.76233621 0.31404434 0.39854901]\n"
          ]
        }
      ]
    },
    {
      "cell_type": "markdown",
      "metadata": {
        "id": "v2g-pDVLQsky"
      },
      "source": [
        "# Selección de caraterísticas mediante métodos *wrapper*\n",
        "### Los métodos *wrapper* se basan en seleccionar las variables que mejor funcionarán para un determinado modelo. Para ello necesitamos un modelo de clasificación o regresión, e iremos probando todas las combinaciones de variables una a una y en grupos.\n",
        "### Vamos a experimentar con este método con un problema sencillo de regresión donde ajustaremos una recta por mínimos cuadrados. El problema lo generaremos con la función `make_regression` de scikit-learn, asegurándonos de crear un número de variables informativas menor que el número total de variables, tal y como muestra el código a continuación.\n",
        "### Generamos 100 muestras de un problema de regresión con 4 variables de entrada y una de salida. De las 4 variables solo 3 son necesarias para poder predecir. Además añádimos una pequeña cantidad de ruido para complicar un poco el problema."
      ]
    },
    {
      "cell_type": "code",
      "metadata": {
        "id": "V2TjVX1hQsky"
      },
      "source": [
        "from sklearn.datasets import make_regression\n",
        "# Para que el ejemplo tenga sentido tenemos que poner n_informative < n_features\n",
        "X, y = make_regression(n_samples=100, n_features=4, n_informative=3, n_targets=1, noise=0.01)"
      ],
      "execution_count": 61,
      "outputs": []
    },
    {
      "cell_type": "markdown",
      "metadata": {
        "id": "Czfr0CN1Qsky"
      },
      "source": [
        "### En la siguiente celda de código hacemos dos cosas:\n",
        "1. Dividimos el conjunto de `X,y` en entrenamiento (train) y test.\n",
        "2. Definimos una clase de Python con un modelo sencillo de regresión lineal.\n",
        "\n",
        "Como os podéis imaginar ya existen modelos así en scikit-learn. El objetivo de definir uno nosotros es doble: 1) para que tengáis un ejemplo de cómo se hace, y 2) para que os familiarizéis con la programación de objetos en Python."
      ]
    },
    {
      "cell_type": "code",
      "metadata": {
        "id": "X5M8-J9eQsky",
        "colab": {
          "base_uri": "https://localhost:8080/"
        },
        "outputId": "da8e1086-e04b-47e9-d850-2c0d3e90b798"
      },
      "source": [
        "# Separamos en entrenamiento y test\n",
        "from sklearn.model_selection import train_test_split\n",
        "Xtrain, Xtest, ytrain, ytest = train_test_split(X, y, test_size=0.33)\n",
        "\n",
        "# Nos aseguramos de que la y tenga dimensión Nx1\n",
        "ytrain = ytrain.reshape(-1,1)\n",
        "ytest = ytest.reshape(-1,1)\n",
        "\n",
        "# Definimos un modelo sencillo de regresión lineal\n",
        "class myLinearModel:\n",
        "    def __init__(self):\n",
        "        self.alphas = None\n",
        "    \n",
        "    def add_ones(self, X):\n",
        "        ones = np.ones((X.shape[0] ,1))\n",
        "        return np.hstack((X, ones))\n",
        "    \n",
        "    def fit(self, X, y):\n",
        "        # y = X*alphas => pinv(X)*y = alphas\n",
        "        self.alphas = np.dot(np.linalg.pinv(self.add_ones(X)), y)\n",
        "        return self.alphas\n",
        "\n",
        "    # Con esta función predecimos\n",
        "    def predict(self, X):\n",
        "        if self.alphas is not None:\n",
        "            return np.dot(self.add_ones(X), self.alphas)\n",
        "        else:\n",
        "            return None\n",
        "\n",
        "    # Y con esta otra medimos el error\n",
        "    def score(self, y, yp):\n",
        "        print('MSE', np.sum((y - yp)**2) / len(y))\n",
        "\n",
        "# Esto ya existe en sklearn, pero mola más programarlo un mismo!\n",
        "# from sklearn.linear_model import LinearRegression\n",
        "# lr = LinearRegression()\n",
        "# lr.fit(Xtrain, ytrain)\n",
        "# yp = lr.predict(Xtest)\n",
        "# print(lr.score(Xtest, ytest))\n",
        "\n",
        "# Comprobamos que funciona\n",
        "model = myLinearModel()\n",
        "model.fit(Xtrain, ytrain)\n",
        "yp = model.predict(Xtest)\n",
        "model.score(ytest, yp)\n",
        "print(model.alphas.T)"
      ],
      "execution_count": 62,
      "outputs": [
        {
          "output_type": "stream",
          "name": "stdout",
          "text": [
            "MSE 8.094579328761068e-05\n",
            "[[ 5.69608328e-04  9.91714874e+01  3.35235666e+01  5.54984224e+01\n",
            "  -1.43645209e-03]]\n"
          ]
        }
      ]
    },
    {
      "cell_type": "markdown",
      "metadata": {
        "id": "gXmnNuZWQskz"
      },
      "source": [
        "### Vamos ahora con el método de selección de variables propiamente dicho.\n",
        "### En primer lugar vamos probando con cada variable una por una ...\n",
        "#### Ejercicio:\n",
        "Prueba una por una las variables de entrada en nuestro `myLinearModel`. Comprueba los resultados\n",
        "con las funciones `fit`, `predict` y `score`."
      ]
    },
    {
      "cell_type": "code",
      "metadata": {
        "id": "WiBXfhBbQskz",
        "colab": {
          "base_uri": "https://localhost:8080/"
        },
        "outputId": "1923117d-39b4-4818-dc9f-024867ac6a5c"
      },
      "source": [
        "for i in range(Xtrain.shape[1]):\n",
        "    mx = myLinearModel()\n",
        "    mx.fit(Xtrain[:, i, None], ytrain)\n",
        "    yx = mx.predict(Xtest[:, i, None])\n",
        "    mx.score(ytest, yx)"
      ],
      "execution_count": 63,
      "outputs": [
        {
          "output_type": "stream",
          "name": "stdout",
          "text": [
            "MSE 13759.069422878245\n",
            "MSE 3542.01947780769\n",
            "MSE 13279.860076968685\n",
            "MSE 11234.141325519748\n"
          ]
        }
      ]
    },
    {
      "cell_type": "markdown",
      "metadata": {
        "id": "RWl-tFyJQskz"
      },
      "source": [
        "### Ahora en grupos de dos ...\n",
        "#### Ejercicio:\n",
        "Ahora prueba todas las combinaciones de dos variables. Para ello usaremos `combinations` de la librería `itertools`."
      ]
    },
    {
      "cell_type": "code",
      "metadata": {
        "id": "Dd-72q2VQskz",
        "colab": {
          "base_uri": "https://localhost:8080/"
        },
        "outputId": "a58b45bd-5d53-4a01-9beb-c63b87464283"
      },
      "source": [
        "from itertools import combinations\n",
        "for c in combinations(range(4), 2):\n",
        "    mx = myLinearModel()\n",
        "    mx.fit(Xtrain[:, c], ytrain)\n",
        "    yx = mx.predict(Xtest[:, c])\n",
        "    mx.score(ytest, yx)\n",
        "    print(c)\n"
      ],
      "execution_count": 64,
      "outputs": [
        {
          "output_type": "stream",
          "name": "stdout",
          "text": [
            "MSE 3725.6390473657343\n",
            "(0, 1)\n",
            "MSE 13345.433460499584\n",
            "(0, 2)\n",
            "MSE 11620.059915684813\n",
            "(0, 3)\n",
            "MSE 2753.5857498117475\n",
            "(1, 2)\n",
            "MSE 747.7527264362028\n",
            "(1, 3)\n",
            "MSE 10871.857278836635\n",
            "(2, 3)\n"
          ]
        }
      ]
    },
    {
      "cell_type": "code",
      "metadata": {
        "id": "9ch7HvwWZHST",
        "colab": {
          "base_uri": "https://localhost:8080/",
          "height": 282
        },
        "outputId": "07a1182f-44d2-49a8-e307-9420a6a2183b"
      },
      "source": [
        "plt.plot(yx)"
      ],
      "execution_count": 65,
      "outputs": [
        {
          "output_type": "execute_result",
          "data": {
            "text/plain": [
              "[<matplotlib.lines.Line2D at 0x7f9232211a60>]"
            ]
          },
          "metadata": {},
          "execution_count": 65
        },
        {
          "output_type": "display_data",
          "data": {
            "text/plain": [
              "<Figure size 432x288 with 1 Axes>"
            ],
            "image/png": "[encoded data removed]"
          },
          "metadata": {
            "needs_background": "light"
          }
        }
      ]
    },
    {
      "cell_type": "markdown",
      "metadata": {
        "id": "C0QSxMGbQskz"
      },
      "source": [
        "### Y por último en grupos de tres ..."
      ]
    },
    {
      "cell_type": "code",
      "metadata": {
        "id": "SzNQhHN0Qskz",
        "colab": {
          "base_uri": "https://localhost:8080/"
        },
        "outputId": "4457a58c-3685-4201-ea31-0cb21b35c591"
      },
      "source": [
        "from itertools import combinations\n",
        "for c in combinations(range(4), 3):\n",
        "    mx = myLinearModel()\n",
        "    mx.fit(Xtrain[:, c], ytrain)\n",
        "    yx = mx.predict(Xtest[:, c])\n",
        "    mx.score(ytest, yx)\n",
        "    print(c)"
      ],
      "execution_count": 66,
      "outputs": [
        {
          "output_type": "stream",
          "name": "stdout",
          "text": [
            "MSE 2915.744385954752\n",
            "(0, 1, 2)\n",
            "MSE 746.7025451301286\n",
            "(0, 1, 3)\n",
            "MSE 11293.25622841534\n",
            "(0, 2, 3)\n",
            "MSE 7.756502787471391e-05\n",
            "(1, 2, 3)\n"
          ]
        }
      ]
    },
    {
      "cell_type": "code",
      "metadata": {
        "id": "bYJguL6pZd3Y"
      },
      "source": [],
      "execution_count": null,
      "outputs": []
    }
  ]
}