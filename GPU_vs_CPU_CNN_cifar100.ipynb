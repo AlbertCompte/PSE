{
  "nbformat": 4,
  "nbformat_minor": 0,
  "metadata": {
    "colab": {
      "provenance": [],
      "include_colab_link": true
    },
    "kernelspec": {
      "name": "python3",
      "display_name": "Python 3"
    },
    "accelerator": "GPU",
    "gpuClass": "standard"
  },
  "cells": [
    {
      "cell_type": "markdown",
      "metadata": {
        "id": "view-in-github",
        "colab_type": "text"
      },
      "source": [
        "<a href=\"https://colab.research.google.com/github/AlbertCompte/PSE/blob/main/GPU_vs_CPU_CNN_cifar100.ipynb\" target=\"_parent\"><img src=\"https://colab.research.google.com/assets/colab-badge.svg\" alt=\"Open In Colab\"/></a>"
      ]
    },
    {
      "cell_type": "markdown",
      "metadata": {
        "id": "J8gzHbwZmtO2"
      },
      "source": [
        "# Ejemplo de CNN 2D en la base de datos cifar100"
      ]
    },
    {
      "cell_type": "code",
      "metadata": {
        "id": "Ub8IUhmduJ7y",
        "outputId": "deeb8a0b-1459-4479-aff2-a42209e53690",
        "colab": {
          "base_uri": "https://localhost:8080/"
        }
      },
      "source": [
        "from __future__ import absolute_import, division, print_function, unicode_literals\n",
        "# Installa TensorFlow\n",
        "%tensorflow_version 2.x\n",
        "import tensorflow as tf\n",
        "print(tf.__version__)"
      ],
      "execution_count": null,
      "outputs": [
        {
          "output_type": "stream",
          "name": "stdout",
          "text": [
            "Colab only includes TensorFlow 2.x; %tensorflow_version has no effect.\n",
            "2.9.2\n"
          ]
        }
      ]
    },
    {
      "cell_type": "code",
      "metadata": {
        "id": "LAd5BiAPnbqr",
        "outputId": "bef1eb8e-d175-4aa9-c0d7-35cc01bab07e",
        "colab": {
          "base_uri": "https://localhost:8080/"
        }
      },
      "source": [
        "# descargamos los datos cifar100 y los partimos en train y test\n",
        "(X_train, y_train), (X_test, y_test) = tf.keras.datasets.cifar100.load_data()"
      ],
      "execution_count": null,
      "outputs": [
        {
          "output_type": "stream",
          "name": "stdout",
          "text": [
            "Downloading data from https://www.cs.toronto.edu/~kriz/cifar-100-python.tar.gz\n",
            "169001437/169001437 [==============================] - 3s 0us/step\n"
          ]
        }
      ]
    },
    {
      "cell_type": "code",
      "metadata": {
        "id": "CVrsjJ0ypgKS",
        "outputId": "e654686b-af93-4526-8169-b68a90395dce",
        "colab": {
          "base_uri": "https://localhost:8080/"
        }
      },
      "source": [
        "# Tamaño de los datos (#datos,#lado,#alto,#canales)\n",
        "print(X_train.shape)"
      ],
      "execution_count": null,
      "outputs": [
        {
          "output_type": "stream",
          "name": "stdout",
          "text": [
            "(50000, 32, 32, 3)\n"
          ]
        }
      ]
    },
    {
      "cell_type": "code",
      "metadata": {
        "id": "idhLs1p7ngXV",
        "outputId": "46e4ce1b-5441-4c83-9e4e-ac8ff20697b5",
        "colab": {
          "base_uri": "https://localhost:8080/",
          "height": 283
        }
      },
      "source": [
        "import matplotlib.pyplot as plt\n",
        "\n",
        "# enseñamos la primera imagen del dataset\n",
        "plt.imshow(X_train[0],cmap=\"gray\")"
      ],
      "execution_count": null,
      "outputs": [
        {
          "output_type": "execute_result",
          "data": {
            "text/plain": [
              "<matplotlib.image.AxesImage at 0x7fb4bc77b940>"
            ]
          },
          "metadata": {},
          "execution_count": 4
        },
        {
          "output_type": "display_data",
          "data": {
            "text/plain": [
              "<Figure size 432x288 with 1 Axes>"
            ],
            "image/png": "[encoded data removed]"
          },
          "metadata": {
            "needs_background": "light"
          }
        }
      ]
    },
    {
      "cell_type": "code",
      "metadata": {
        "id": "0sE_9bAEnsmw"
      },
      "source": [
        "# one-hot encoding en las 'y'\n",
        "from tensorflow.keras.utils import to_categorical\n",
        "\n",
        "y_train = to_categorical(y_train)\n",
        "y_test = to_categorical(y_test)\n"
      ],
      "execution_count": null,
      "outputs": []
    },
    {
      "cell_type": "markdown",
      "metadata": {
        "id": "SF5CgUo8nt1w"
      },
      "source": [
        "Modelo"
      ]
    },
    {
      "cell_type": "code",
      "metadata": {
        "id": "uQHWqWS5nt6y"
      },
      "source": [
        "# Hacemos un modelo con varias capas\n",
        "\n",
        "from tensorflow.keras.models import Sequential\n",
        "from tensorflow.keras.layers import Dense, Conv2D, Flatten, BatchNormalization, Dropout\n",
        "from tensorflow.keras import regularizers\n",
        "\n",
        "#crear modelo\n",
        "model = Sequential()\n",
        "\n",
        "#Vamos añadiendo capas\n",
        "model.add(Conv2D(64, kernel_size=3, activation='relu', input_shape=(32,32,3),\n",
        "                activity_regularizer=regularizers.l1(0.2)))\n",
        "model.add(BatchNormalization())\n",
        "model.add(Dropout(0.3))\n",
        "model.add(Conv2D(32, kernel_size=3, activation='relu',\n",
        "                activity_regularizer=regularizers.l1(0.2)))\n",
        "model.add(BatchNormalization())\n",
        "model.add(Dropout(0.3))\n",
        "model.add(Conv2D(16, kernel_size=3, activation='relu',\n",
        "                activity_regularizer=regularizers.l1(0.2)))\n",
        "model.add(BatchNormalization())\n",
        "model.add(Dropout(0.3))\n",
        "model.add(Flatten())\n",
        "model.add(Dense(100, activation='softmax'))"
      ],
      "execution_count": null,
      "outputs": []
    },
    {
      "cell_type": "code",
      "metadata": {
        "id": "Uqup8SlMnwU0"
      },
      "source": [
        "# Compilamos el modelo\n",
        "model.compile(optimizer='adam', loss='categorical_crossentropy', metrics=['accuracy'])"
      ],
      "execution_count": null,
      "outputs": []
    },
    {
      "cell_type": "code",
      "metadata": {
        "id": "RU9EdH30DYv7",
        "outputId": "20c997ad-0cf7-4bfd-edea-f0c580e4c6d8",
        "colab": {
          "base_uri": "https://localhost:8080/"
        }
      },
      "source": [
        "# Este es el modelo\n",
        "model.summary()"
      ],
      "execution_count": null,
      "outputs": [
        {
          "output_type": "stream",
          "name": "stdout",
          "text": [
            "Model: \"sequential\"\n",
            "_________________________________________________________________\n",
            " Layer (type)                Output Shape              Param #   \n",
            "=================================================================\n",
            " conv2d (Conv2D)             (None, 30, 30, 64)        1792      \n",
            "                                                                 \n",
            " batch_normalization (BatchN  (None, 30, 30, 64)       256       \n",
            " ormalization)                                                   \n",
            "                                                                 \n",
            " dropout (Dropout)           (None, 30, 30, 64)        0         \n",
            "                                                                 \n",
            " conv2d_1 (Conv2D)           (None, 28, 28, 32)        18464     \n",
            "                                                                 \n",
            " batch_normalization_1 (Batc  (None, 28, 28, 32)       128       \n",
            " hNormalization)                                                 \n",
            "                                                                 \n",
            " dropout_1 (Dropout)         (None, 28, 28, 32)        0         \n",
            "                                                                 \n",
            " conv2d_2 (Conv2D)           (None, 26, 26, 16)        4624      \n",
            "                                                                 \n",
            " batch_normalization_2 (Batc  (None, 26, 26, 16)       64        \n",
            " hNormalization)                                                 \n",
            "                                                                 \n",
            " dropout_2 (Dropout)         (None, 26, 26, 16)        0         \n",
            "                                                                 \n",
            " flatten (Flatten)           (None, 10816)             0         \n",
            "                                                                 \n",
            " dense (Dense)               (None, 100)               1081700   \n",
            "                                                                 \n",
            "=================================================================\n",
            "Total params: 1,107,028\n",
            "Trainable params: 1,106,804\n",
            "Non-trainable params: 224\n",
            "_________________________________________________________________\n"
          ]
        }
      ]
    },
    {
      "cell_type": "code",
      "metadata": {
        "id": "gKgh5QPeNsxR"
      },
      "source": [
        "# Vamos a usar el callback de earlystopping\n",
        "from keras.callbacks import EarlyStopping\n",
        "early_stopping = EarlyStopping(monitor='val_loss', patience=12, min_delta=0.01)"
      ],
      "execution_count": null,
      "outputs": []
    },
    {
      "cell_type": "code",
      "metadata": {
        "id": "LjNKLB6Tn7gR",
        "colab": {
          "base_uri": "https://localhost:8080/"
        },
        "outputId": "272023f3-5331-4441-fa8f-b14fd7f17fbb"
      },
      "source": [
        "# Entrenamos\n",
        "hist = model.fit(X_train, y_train, validation_split=0.3, epochs=50, callbacks=[early_stopping])"
      ],
      "execution_count": null,
      "outputs": [
        {
          "output_type": "stream",
          "name": "stdout",
          "text": [
            "Epoch 1/50\n",
            "1094/1094 [==============================] - 19s 9ms/step - loss: 1282.3110 - accuracy: 0.0119 - val_loss: 12.8595 - val_accuracy: 0.0101\n",
            "Epoch 2/50\n",
            "1094/1094 [==============================] - 9s 8ms/step - loss: 9.0211 - accuracy: 0.0100 - val_loss: 7.1560 - val_accuracy: 0.0099\n",
            "Epoch 3/50\n",
            "1094/1094 [==============================] - 10s 9ms/step - loss: 6.1578 - accuracy: 0.0103 - val_loss: 5.7250 - val_accuracy: 0.0102\n",
            "Epoch 4/50\n",
            "1094/1094 [==============================] - 10s 9ms/step - loss: 5.2938 - accuracy: 0.0094 - val_loss: 5.1514 - val_accuracy: 0.0102\n",
            "Epoch 5/50\n",
            "1094/1094 [==============================] - 9s 8ms/step - loss: 4.9331 - accuracy: 0.0103 - val_loss: 4.8946 - val_accuracy: 0.0100\n",
            "Epoch 6/50\n",
            "1094/1094 [==============================] - 10s 9ms/step - loss: 4.7690 - accuracy: 0.0096 - val_loss: 4.7659 - val_accuracy: 0.0108\n",
            "Epoch 7/50\n",
            "1094/1094 [==============================] - 9s 8ms/step - loss: 4.6919 - accuracy: 0.0105 - val_loss: 4.7040 - val_accuracy: 0.0095\n",
            "Epoch 8/50\n",
            "1094/1094 [==============================] - 10s 9ms/step - loss: 4.6560 - accuracy: 0.0092 - val_loss: 4.6643 - val_accuracy: 0.0086\n",
            "Epoch 9/50\n",
            "1094/1094 [==============================] - 9s 8ms/step - loss: 4.6375 - accuracy: 0.0100 - val_loss: 4.6492 - val_accuracy: 0.0100\n",
            "Epoch 10/50\n",
            "1094/1094 [==============================] - 9s 8ms/step - loss: 4.6274 - accuracy: 0.0093 - val_loss: 4.6349 - val_accuracy: 0.0099\n",
            "Epoch 11/50\n",
            "1094/1094 [==============================] - 9s 8ms/step - loss: 4.6206 - accuracy: 0.0101 - val_loss: 4.6309 - val_accuracy: 0.0093\n",
            "Epoch 12/50\n",
            "1094/1094 [==============================] - 9s 8ms/step - loss: 4.6190 - accuracy: 0.0099 - val_loss: 4.6200 - val_accuracy: 0.0113\n",
            "Epoch 13/50\n",
            "1094/1094 [==============================] - 10s 9ms/step - loss: 4.6168 - accuracy: 0.0100 - val_loss: 4.6315 - val_accuracy: 0.0107\n",
            "Epoch 14/50\n",
            "1094/1094 [==============================] - 10s 9ms/step - loss: 4.6170 - accuracy: 0.0093 - val_loss: 4.6300 - val_accuracy: 0.0089\n",
            "Epoch 15/50\n",
            "1094/1094 [==============================] - 9s 8ms/step - loss: 4.6149 - accuracy: 0.0095 - val_loss: 4.6300 - val_accuracy: 0.0097\n",
            "Epoch 16/50\n",
            "1094/1094 [==============================] - 9s 8ms/step - loss: 4.6155 - accuracy: 0.0087 - val_loss: 4.6225 - val_accuracy: 0.0084\n",
            "Epoch 17/50\n",
            "1094/1094 [==============================] - 10s 9ms/step - loss: 4.6150 - accuracy: 0.0102 - val_loss: 4.6283 - val_accuracy: 0.0102\n",
            "Epoch 18/50\n",
            "1094/1094 [==============================] - 9s 8ms/step - loss: 4.6141 - accuracy: 0.0102 - val_loss: 4.6259 - val_accuracy: 0.0094\n",
            "Epoch 19/50\n",
            "1094/1094 [==============================] - 9s 8ms/step - loss: 4.6147 - accuracy: 0.0102 - val_loss: 4.6224 - val_accuracy: 0.0094\n",
            "Epoch 20/50\n",
            "1094/1094 [==============================] - 10s 9ms/step - loss: 4.6152 - accuracy: 0.0096 - val_loss: 4.6221 - val_accuracy: 0.0100\n",
            "Epoch 21/50\n",
            "1094/1094 [==============================] - 10s 9ms/step - loss: 4.6153 - accuracy: 0.0094 - val_loss: 4.6245 - val_accuracy: 0.0101\n",
            "Epoch 22/50\n",
            "1094/1094 [==============================] - 10s 9ms/step - loss: 4.6142 - accuracy: 0.0091 - val_loss: 4.6303 - val_accuracy: 0.0089\n",
            "Epoch 23/50\n",
            "1094/1094 [==============================] - 9s 8ms/step - loss: 4.6146 - accuracy: 0.0099 - val_loss: 4.6213 - val_accuracy: 0.0097\n",
            "Epoch 24/50\n",
            "1094/1094 [==============================] - 9s 8ms/step - loss: 4.6148 - accuracy: 0.0090 - val_loss: 4.6235 - val_accuracy: 0.0095\n"
          ]
        }
      ]
    },
    {
      "cell_type": "code",
      "metadata": {
        "id": "194RRmusoEC7",
        "outputId": "68a86923-6de6-4f65-a2b0-175d05690779",
        "colab": {
          "base_uri": "https://localhost:8080/"
        }
      },
      "source": [
        "# Evaluamos el modelo\n",
        "score = model.evaluate(X_test,y_test)\n",
        "score"
      ],
      "execution_count": 11,
      "outputs": [
        {
          "output_type": "stream",
          "name": "stdout",
          "text": [
            "313/313 [==============================] - 1s 4ms/step - loss: 4.6349 - accuracy: 0.0100\n"
          ]
        },
        {
          "output_type": "execute_result",
          "data": {
            "text/plain": [
              "[4.634920120239258, 0.009999999776482582]"
            ]
          },
          "metadata": {},
          "execution_count": 11
        }
      ]
    },
    {
      "cell_type": "code",
      "source": [],
      "metadata": {
        "id": "TFu3Dc9v_ULV"
      },
      "execution_count": null,
      "outputs": []
    },
    {
      "cell_type": "code",
      "metadata": {
        "id": "9LiatwSPoPT7",
        "colab": {
          "base_uri": "https://localhost:8080/",
          "height": 282
        },
        "outputId": "73170446-04c7-4afa-c969-037bd2424330"
      },
      "source": [
        "# Ploteamos la evolucion del loss durante el entrenamiento\n",
        "import matplotlib.pyplot as plt\n",
        "\n",
        "%matplotlib inline\n",
        "\n",
        "plt.figure\n",
        "plt.plot(hist.history['loss'],label=\"loss\")\n",
        "plt.plot(hist.history['val_loss'],label=\"val_loss\")\n",
        "plt.legend()\n"
      ],
      "execution_count": 12,
      "outputs": [
        {
          "output_type": "execute_result",
          "data": {
            "text/plain": [
              "<matplotlib.legend.Legend at 0x7fb45639feb0>"
            ]
          },
          "metadata": {},
          "execution_count": 12
        },
        {
          "output_type": "display_data",
          "data": {
            "text/plain": [
              "<Figure size 432x288 with 1 Axes>"
            ],
            "image/png": "[encoded data removed]"
          },
          "metadata": {
            "needs_background": "light"
          }
        }
      ]
    },
    {
      "cell_type": "code",
      "metadata": {
        "id": "u2arW_sOqI3c",
        "colab": {
          "base_uri": "https://localhost:8080/",
          "height": 282
        },
        "outputId": "aa5814f7-e8cc-402b-9f22-c7a1155643f2"
      },
      "source": [
        "# Ploteamos la evolucion del accuracy durante el entrenamiento\n",
        "import matplotlib.pyplot as plt\n",
        "\n",
        "%matplotlib inline\n",
        "\n",
        "plt.figure\n",
        "plt.plot(hist.history['accuracy'],label=\"accuracy\")\n",
        "plt.plot(hist.history['val_accuracy'],label=\"val_accuracy\")\n",
        "plt.legend()\n"
      ],
      "execution_count": 13,
      "outputs": [
        {
          "output_type": "execute_result",
          "data": {
            "text/plain": [
              "<matplotlib.legend.Legend at 0x7fb456396b50>"
            ]
          },
          "metadata": {},
          "execution_count": 13
        },
        {
          "output_type": "display_data",
          "data": {
            "text/plain": [
              "<Figure size 432x288 with 1 Axes>"
            ],
            "image/png": "[encoded data removed]"
          },
          "metadata": {
            "needs_background": "light"
          }
        }
      ]
    },
    {
      "cell_type": "code",
      "metadata": {
        "id": "7mN0MrhorXQu",
        "colab": {
          "base_uri": "https://localhost:8080/"
        },
        "outputId": "6f9a4bde-c2c8-4161-ca8a-65fa83afc33a"
      },
      "source": [
        "# Predecimos sobre test\n",
        "preds_test = model.predict(X_test)\n",
        "preds_test.shape"
      ],
      "execution_count": 14,
      "outputs": [
        {
          "output_type": "stream",
          "name": "stdout",
          "text": [
            "313/313 [==============================] - 1s 3ms/step\n"
          ]
        },
        {
          "output_type": "execute_result",
          "data": {
            "text/plain": [
              "(10000, 100)"
            ]
          },
          "metadata": {},
          "execution_count": 14
        }
      ]
    },
    {
      "cell_type": "code",
      "metadata": {
        "id": "WizGQiTup87z",
        "colab": {
          "base_uri": "https://localhost:8080/",
          "height": 283
        },
        "outputId": "344d2aa9-8606-4f9b-d1ea-eb25411eaace"
      },
      "source": [
        "import numpy as np\n",
        "# Elegimos una imagen de test\n",
        "idx_mostrar = 2990\n",
        "# Mostramos la imagen\n",
        "plt.imshow(X_test[idx_mostrar,:,:,:])\n",
        "# Mostramos las probabilidades que da el modelo a cada clase\n",
        "print(np.argmax(preds_test[idx_mostrar]))"
      ],
      "execution_count": 15,
      "outputs": [
        {
          "output_type": "stream",
          "name": "stdout",
          "text": [
            "16\n"
          ]
        },
        {
          "output_type": "display_data",
          "data": {
            "text/plain": [
              "<Figure size 432x288 with 1 Axes>"
            ],
            "image/png": "[encoded data removed]"
          },
          "metadata": {
            "needs_background": "light"
          }
        }
      ]
    },
    {
      "cell_type": "code",
      "metadata": {
        "id": "oF7Raj64qHvq"
      },
      "source": [],
      "execution_count": null,
      "outputs": []
    }
  ]
}