{
  "nbformat": 4,
  "nbformat_minor": 0,
  "metadata": {
    "kernelspec": {
      "display_name": "Python 3",
      "language": "python",
      "name": "python3"
    },
    "language_info": {
      "codemirror_mode": {
        "name": "ipython",
        "version": 3
      },
      "file_extension": ".py",
      "mimetype": "text/x-python",
      "name": "python",
      "nbconvert_exporter": "python",
      "pygments_lexer": "ipython3",
      "version": "3.6.12"
    },
    "colab": {
      "provenance": [],
      "collapsed_sections": [
        "sl3vvHkfw8Io"
      ],
      "include_colab_link": true
    },
    "accelerator": "GPU"
  },
  "cells": [
    {
      "cell_type": "markdown",
      "metadata": {
        "id": "view-in-github",
        "colab_type": "text"
      },
      "source": [
        "<a href=\"https://colab.research.google.com/github/AlbertCompte/PSE/blob/main/Practica_1_Albert.ipynb\" target=\"_parent\"><img src=\"https://colab.research.google.com/assets/colab-badge.svg\" alt=\"Open In Colab\"/></a>"
      ]
    },
    {
      "cell_type": "markdown",
      "metadata": {
        "id": "D7q3CY_bw8IM"
      },
      "source": [
        "\n",
        "# Computational Statistics (part I)\n"
      ]
    },
    {
      "cell_type": "markdown",
      "metadata": {
        "id": "N_SHzRVtw8IR"
      },
      "source": [
        "# Index"
      ]
    },
    {
      "cell_type": "markdown",
      "metadata": {
        "id": "TlhCMa1zw8IR"
      },
      "source": [
        "###1 Estimation\n",
        "* 1.1 Kernel density estimation\n",
        "* 1.2 Sample mean\n",
        "* 1.3 Variance\n",
        "* 1.4 Standard scores\n",
        "* 1.5 Covariance \n",
        "* 1.6 Pearson's correlation\n",
        "* 1.7 Spearman's rank correlation\n",
        " "
      ]
    },
    {
      "cell_type": "markdown",
      "metadata": {
        "id": "zudjiChnYj7N"
      },
      "source": [
        "## 1 Estimation"
      ]
    },
    {
      "cell_type": "markdown",
      "metadata": {
        "id": "YssNGO3hw8Ij"
      },
      "source": [
        "### 1.1 Kernel density estimates \n",
        "\n",
        "In some instances, we may not be interested in the parameters of a particular distribution of data, but on just a **continous representation** of the data at hand. In this case, we can estimate the distribution non-parametrically (i.e. making no assumptions about the form of the underlying distribution) using kernel density estimation.\n",
        "\n",
        "> In statistics, kernel density estimation (KDE) is a non-parametric way to estimate the probability density function of a random variable. Kernel density estimation is a fundamental data smoothing problem where inferences about the population are made, based on a finite data sample. \n",
        "\n",
        "Several uses are defined:\n",
        "\n",
        "- Visualization - to explore the data by visualizing them and decide whether an estimated PDF is an appropriate model for the distribution.\n",
        "\n",
        "- Interpolation - if we have reasons to beleive that the distribution is smooth, we can apply the KDE to interpolate the density specially for values that were not sampled.\n",
        "\n",
        "- Simulation - specially when the sample distribution is small, it would be convenient to smooth the sample distribution by KDE in order to simulate and explore more possible outcomes, rather than replicating the observed data."
      ]
    },
    {
      "cell_type": "code",
      "metadata": {
        "id": "tzLmLKjbZ23K"
      },
      "source": [
        "import numpy as np\n",
        "import matplotlib.pyplot as plt\n"
      ],
      "execution_count": 1,
      "outputs": []
    },
    {
      "cell_type": "markdown",
      "metadata": {
        "id": "_s9zQKt1w8Ik"
      },
      "source": [
        "Let's create a bi-modal distribution of data that is not easily summarized by a parametric distribution and adjust a KDE:"
      ]
    },
    {
      "cell_type": "code",
      "metadata": {
        "colab": {
          "base_uri": "https://localhost:8080/",
          "height": 265
        },
        "id": "AHfeX6iKw8Ik",
        "outputId": "48ac5e30-5bf9-4c50-95ec-31a09a6e8dc6"
      },
      "source": [
        "# Create a bimodal distribution with a mixture of Normals.\n",
        "from scipy.stats import norm\n",
        "\n",
        "x1 = norm.rvs(size=100,loc=0,scale=3) # parameters (size=None,loc=mean,scale=stdev)\n",
        "x2 = norm.rvs(size=50,loc=8,scale=1)\n",
        "\n",
        "# Append by row\n",
        "x = np.r_[x1, x2] # r_ Translates slice objects to concatenation along the first axis.\n",
        "\n",
        "#plt.plot(x, np.zeros((x.shape[0],)),'.')\n",
        "\n",
        "#The simplest non-parametric technique for density estimation is the histogram.\n",
        "plt.hist(x, bins=17, density=True)\n",
        "plt.show()"
      ],
      "execution_count": 2,
      "outputs": [
        {
          "output_type": "display_data",
          "data": {
            "text/plain": [
              "<Figure size 432x288 with 1 Axes>"
            ],
            "image/png": "[encoded data removed]"
          },
          "metadata": {
            "needs_background": "light"
          }
        }
      ]
    },
    {
      "cell_type": "markdown",
      "metadata": {
        "id": "8mU_KgC6w8Ik"
      },
      "source": [
        "The histogram above is discontinuous. To compute a continuous probability density function, we can use a KDE.\n",
        "\n",
        "**How?** A normal kernel is placed on each of the data points xi and the kernels are then summed to make the kernel density estimate. \n",
        "\n",
        "<code>SciPy</code> implements a Gaussian KDE that automatically chooses an appropriate bandwidth following Scott's rule:\n",
        " https://docs.scipy.org/doc/scipy/reference/generated/scipy.stats.gaussian_kde.html#ra3a8695506c7-3"
      ]
    },
    {
      "cell_type": "code",
      "metadata": {
        "colab": {
          "base_uri": "https://localhost:8080/",
          "height": 265
        },
        "id": "CO4edDI2w8Ik",
        "outputId": "6ce01cea-89f5-49d6-eb0d-6e5b3ee4e835"
      },
      "source": [
        "from scipy.stats import kde\n",
        "\n",
        "density = kde.gaussian_kde(x)\n",
        "xgrid = np.linspace(x.min(), x.max(), 100)\n",
        "plt.hist(x, bins=17, density=True)\n",
        "plt.plot(xgrid, density(xgrid), 'r-')\n",
        "plt.show()"
      ],
      "execution_count": 3,
      "outputs": [
        {
          "output_type": "display_data",
          "data": {
            "text/plain": [
              "<Figure size 432x288 with 1 Axes>"
            ],
            "image/png": "[encoded data removed]"
          },
          "metadata": {
            "needs_background": "light"
          }
        }
      ]
    },
    {
      "cell_type": "markdown",
      "metadata": {
        "id": "-JFrEbi0w8Ik"
      },
      "source": [
        "Kernel bandwidth selection strongly influences the estimate obtained from the KDE (much more so than the actual shape of the kernel). The bandwidth acts as a smoothing parameter, controlling the tradeoff between bias and variance in the result: a large bandwidth leads to a very smooth (i.e. high-bias) density distribution, while a small bandwidth leads to an unsmooth (i.e. high-variance) density distribution."
      ]
    },
    {
      "cell_type": "code",
      "metadata": {
        "colab": {
          "base_uri": "https://localhost:8080/",
          "height": 265
        },
        "id": "Swhhcj0Ew8Il",
        "outputId": "19179e11-519c-4a13-d319-3ecc08731a87"
      },
      "source": [
        "# EXERCICE: Plot the estimation for  3 different bandwidths [0.1, 0.2, 0.6]\n",
        "density = kde.gaussian_kde(x, bw_method=0.1)\n",
        "\n",
        "xgrid = np.linspace(x.min(), x.max(), 100)\n",
        "plt.hist(x, bins=17, density=True)\n",
        "plt.plot(xgrid, density(xgrid), 'r-')\n",
        "plt.show()\n",
        "  "
      ],
      "execution_count": 4,
      "outputs": [
        {
          "output_type": "display_data",
          "data": {
            "text/plain": [
              "<Figure size 432x288 with 1 Axes>"
            ],
            "image/png": "[encoded data removed]"
          },
          "metadata": {
            "needs_background": "light"
          }
        }
      ]
    },
    {
      "cell_type": "markdown",
      "metadata": {
        "id": "1Krel8Hqw8Il"
      },
      "source": [
        "The Gaussian KDE is the most widely used, but several other kernels are also available from <code>statsmodels</code> and <code>sklearn</code>:"
      ]
    },
    {
      "cell_type": "code",
      "metadata": {
        "colab": {
          "base_uri": "https://localhost:8080/"
        },
        "id": "-NloqJMuw8Il",
        "outputId": "c3ff425d-cfcd-4acd-e233-f87a618ae49c"
      },
      "source": [
        "from statsmodels.nonparametric.kde import kernel_switch\n",
        "list(kernel_switch.keys())"
      ],
      "execution_count": 5,
      "outputs": [
        {
          "output_type": "execute_result",
          "data": {
            "text/plain": [
              "['gau', 'epa', 'uni', 'tri', 'biw', 'triw', 'cos', 'cos2']"
            ]
          },
          "metadata": {},
          "execution_count": 5
        }
      ]
    },
    {
      "cell_type": "code",
      "metadata": {
        "colab": {
          "base_uri": "https://localhost:8080/",
          "height": 444
        },
        "id": "06he5P2nw8Il",
        "outputId": "7a3d1f98-7737-4135-8e3a-312d86af0fbf"
      },
      "source": [
        "from sklearn.neighbors import KernelDensity\n",
        "\n",
        "# Plot all available kernels\n",
        "\n",
        "kernels = ['cosine', 'epanechnikov', 'exponential', 'gaussian', 'linear', 'tophat']\n",
        "fig, ax = plt.subplots(nrows=2, ncols=3, figsize=(10, 7))\n",
        "\n",
        "plt_ind = np.arange(6) + 231\n",
        "\n",
        "for k, ind in zip(kernels, plt_ind):\n",
        "    kde_model = KernelDensity(kernel=k)\n",
        "    kde_model.fit([[0]]) # Build a model using a sample of only one value, for example, 0.\n",
        "    score = kde_model.score_samples(np.arange(-2, 2, 0.1)[:, None]) # estimate the density of all points around zero\n",
        "    plt.subplot(ind)\n",
        "    plt.fill(np.arange(-2, 2, 0.1)[:, None], np.exp(score), c='blue') #plot the density along the y-axis\n",
        "    plt.title(k)\n",
        "\n",
        "fig.subplots_adjust(hspace=0.5, wspace=.3)\n",
        "plt.show()"
      ],
      "execution_count": 6,
      "outputs": [
        {
          "output_type": "display_data",
          "data": {
            "text/plain": [
              "<Figure size 720x504 with 6 Axes>"
            ],
            "image/png": "[encoded data removed]"
          },
          "metadata": {
            "needs_background": "light"
          }
        }
      ]
    },
    {
      "cell_type": "code",
      "metadata": {
        "id": "BskzXnPQ_--p"
      },
      "source": [
        "\n"
      ],
      "execution_count": 13,
      "outputs": []
    },
    {
      "cell_type": "markdown",
      "metadata": {
        "id": "gCbtJ8Mcw8Il"
      },
      "source": [
        "\n",
        "### 1.2 Mean\n",
        "\n",
        "\n"
      ]
    },
    {
      "cell_type": "markdown",
      "metadata": {
        "id": "JZjkf2tXw8Im"
      },
      "source": [
        "Let's think of a sequence of values: \n",
        "[-0.441, 1.774, -0.101, -1.138, 2.975, -2.138].\n",
        "\n",
        "Can you guess which is the distribution? For example what would be its mean?\n",
        "\n",
        "Hint: assume that it is normal distribution."
      ]
    },
    {
      "cell_type": "code",
      "metadata": {
        "colab": {
          "base_uri": "https://localhost:8080/"
        },
        "id": "y030wyuYw8Im",
        "outputId": "50ecab37-88a7-4b39-cd24-70f88e48abed"
      },
      "source": [
        "# EXERCICE: What is the mean?\n",
        "x=np.array([-0.441, 1.774, -0.101, -1.138, 2.975, -2.138])\n",
        "\n",
        "x_m = np.mean(x)\n",
        "\n",
        "print(x_m)\n",
        "\n"
      ],
      "execution_count": 8,
      "outputs": [
        {
          "output_type": "stream",
          "name": "stdout",
          "text": [
            "0.15516666666666667\n"
          ]
        }
      ]
    },
    {
      "cell_type": "markdown",
      "metadata": {
        "id": "C5se3cBbw8Im"
      },
      "source": [
        "Since we usually do not know the true population properties, we can try our best to define estimators of those properties from the sample set using a similar construction.\n",
        "\n",
        "> **Estimation** is the process of inferring the parameters (e.g. mean) of a distribution from a statistic of samples drown from a population. \n",
        "\n",
        "For example: What is the estimated mean $\\hat{\\mu}$ of the following normal data?"
      ]
    },
    {
      "cell_type": "code",
      "metadata": {
        "colab": {
          "base_uri": "https://localhost:8080/",
          "height": 265
        },
        "id": "vietKmyEw8Im",
        "outputId": "20cfa78f-5c28-4c17-9c0c-7885f3bb2d68"
      },
      "source": [
        "x = np.random.normal(0.0, 1.0, 10000)\n",
        "a = plt.hist(x,50,density='True')"
      ],
      "execution_count": 9,
      "outputs": [
        {
          "output_type": "display_data",
          "data": {
            "text/plain": [
              "<Figure size 432x288 with 1 Axes>"
            ],
            "image/png": "[encoded data removed]"
          },
          "metadata": {
            "needs_background": "light"
          }
        }
      ]
    },
    {
      "cell_type": "markdown",
      "metadata": {
        "id": "jhnLtnWyw8Im"
      },
      "source": [
        "We can use our definition of empirical mean:"
      ]
    },
    {
      "cell_type": "code",
      "metadata": {
        "colab": {
          "base_uri": "https://localhost:8080/"
        },
        "id": "u4OxPt7dw8In",
        "outputId": "ec981810-9487-401b-de72-0199b6f9b4f4"
      },
      "source": [
        "print('The empirical mean of the sample is ', x.mean())"
      ],
      "execution_count": 10,
      "outputs": [
        {
          "output_type": "stream",
          "name": "stdout",
          "text": [
            "The empirical mean of the sample is  0.013146385398202088\n"
          ]
        }
      ]
    },
    {
      "cell_type": "markdown",
      "metadata": {
        "id": "nRPUI0YQw8In"
      },
      "source": [
        "Let us imagine that we were reported the following data, where probably one of the data (the last item) is wrong:\n",
        "    "
      ]
    },
    {
      "cell_type": "code",
      "metadata": {
        "colab": {
          "base_uri": "https://localhost:8080/"
        },
        "id": "bMFkiJB8w8In",
        "outputId": "631186e1-a58e-434d-d437-5d0d3b7e76b1"
      },
      "source": [
        "x=np.array([-0.441, 1.774, -0.101, -1.138, 2.975, -213.8])\n",
        "print(x.mean())"
      ],
      "execution_count": 11,
      "outputs": [
        {
          "output_type": "stream",
          "name": "stdout",
          "text": [
            "-35.121833333333335\n"
          ]
        }
      ]
    },
    {
      "cell_type": "markdown",
      "metadata": {
        "id": "Vl-AHRLFw8In"
      },
      "source": [
        "Is the mean estimator good enough? The median is also an estimator (more robust to outliers)"
      ]
    },
    {
      "cell_type": "code",
      "metadata": {
        "id": "xZvQqwQK96LS",
        "colab": {
          "base_uri": "https://localhost:8080/",
          "height": 282
        },
        "outputId": "d99fd1ac-12f9-4b4b-c85e-50644a6b7817"
      },
      "source": [
        "# EXERCICE: Plot the median of the data\n",
        "\n",
        "plt.plot([np.median(x)], [np.median(x)], 'o')\n",
        "print(np.median(x))"
      ],
      "execution_count": 14,
      "outputs": [
        {
          "output_type": "stream",
          "name": "stdout",
          "text": [
            "0.0020799528675050907\n"
          ]
        },
        {
          "output_type": "display_data",
          "data": {
            "text/plain": [
              "<Figure size 432x288 with 1 Axes>"
            ],
            "image/png": "[encoded data removed]"
          },
          "metadata": {
            "needs_background": "light"
          }
        }
      ]
    },
    {
      "cell_type": "markdown",
      "metadata": {
        "id": "2rIbv3u6w8Io"
      },
      "source": [
        "**Sample mean**\n",
        "\n",
        "\"Is median better than sample mean?\" it depends, we can use two different objectives to answer this question: the *minimization of error* or the *maximization to get the right answer*. \n",
        "   * The median may be a better indicator of the most typical value if a set of scores has an outlier. \n",
        "   * If there are no outliers, we can use the **sample mean** to minimize **mean squared error** (where $m$ is the number of times you play the estimation game, not the size of the sample!):\n",
        "\n",
        "$$ MSE = \\frac{1}{m} \\sum(\\hat{\\mu} - \\mu)^2$$\n",
        "\n",
        "\n"
      ]
    },
    {
      "cell_type": "code",
      "metadata": {
        "colab": {
          "base_uri": "https://localhost:8080/"
        },
        "id": "KYCBk0L5w8Io",
        "outputId": "14b925d2-de1e-4e07-a0b8-d00a67a7d941"
      },
      "source": [
        "err = 0.0\n",
        "mu=0.0\n",
        "NTests=1000\n",
        "var=1.0\n",
        "NPoints=100000\n",
        "for i in range(NTests):\n",
        "    x = np.random.normal(mu, var, NPoints)\n",
        "    err += (mu - x.mean())**2\n",
        "\n",
        "print('MSE: ', err/NTests) "
      ],
      "execution_count": 15,
      "outputs": [
        {
          "output_type": "stream",
          "name": "stdout",
          "text": [
            "MSE:  9.280696599813195e-06\n"
          ]
        }
      ]
    },
    {
      "cell_type": "code",
      "metadata": {
        "id": "rTUCgIUS-gW_",
        "colab": {
          "base_uri": "https://localhost:8080/"
        },
        "outputId": "95a46a46-6597-43dd-9647-f87729e92c1c"
      },
      "source": [
        "# EXERCICE: Test the MSE for different number of tests (NTests) and number of samples (NPoints) \n",
        "NTests=10\n",
        "NPoints=10000\n",
        "\n",
        "for i in range(NTests):\n",
        "    x = np.random.normal(mu, var, NPoints)\n",
        "    err += (mu - x.mean())**2\n",
        "\n",
        "print('MSE: ', err/NTests) \n",
        "\n",
        "NTests=100\n",
        "NPoints=100000\n",
        "\n",
        "for i in range(NTests):\n",
        "    x = np.random.normal(mu, var, NPoints)\n",
        "    err += (mu - x.mean())**2\n",
        "\n",
        "print('MSE: ', err/NTests)\n"
      ],
      "execution_count": 17,
      "outputs": [
        {
          "output_type": "stream",
          "name": "stdout",
          "text": [
            "MSE:  0.0027562821417565766\n",
            "MSE:  0.0002845242190582772\n"
          ]
        }
      ]
    },
    {
      "cell_type": "code",
      "metadata": {
        "id": "xLoNPeKD-CoH",
        "colab": {
          "base_uri": "https://localhost:8080/"
        },
        "outputId": "09f4a748-82a3-4aae-d7f6-2f40b3670be3"
      },
      "source": [
        "# EXERCICE: Compare the median vs the mean \n",
        "print(x.mean())\n",
        "print(np.median(x))"
      ],
      "execution_count": 18,
      "outputs": [
        {
          "output_type": "stream",
          "name": "stdout",
          "text": [
            "-0.0014611494333757011\n",
            "-0.0003768932623824887\n"
          ]
        }
      ]
    },
    {
      "cell_type": "code",
      "metadata": {
        "id": "vN39mP9n-d0Q"
      },
      "source": [],
      "execution_count": null,
      "outputs": []
    },
    {
      "cell_type": "markdown",
      "metadata": {
        "id": "sl3vvHkfw8Io"
      },
      "source": [
        "### 1.3 Sample variance\n",
        "\n",
        "We can also estimate the variance with:\n",
        "\n",
        "$$ \\hat{\\sigma}^2 = \\frac{1}{n} \\sum_i (x_i - \\mu)^2 $$\n",
        "\n",
        "This estimator works for large samples, but it is biased for small samples. We can  use $n − 1$ instead of $n$ in the formula to correct for this bias:\n",
        "\n",
        "$$ \\hat{\\sigma}^2_{n-1} = \\frac{1}{n-1} \\sum_i (x_i - \\mu)^2 $$\n"
      ]
    },
    {
      "cell_type": "code",
      "metadata": {
        "id": "-uHSesFi-RaI",
        "colab": {
          "base_uri": "https://localhost:8080/"
        },
        "outputId": "734b646e-6718-4749-934a-8bf803383096"
      },
      "source": [
        "# EXERCICE: compute the sample variance for the exercice above (i.e. 100000 points 1000 times)\n",
        "\n",
        "err = 0.0\n",
        "mu=0.0\n",
        "NTests=1000\n",
        "var=1.0\n",
        "NPoints=100000\n",
        "for i in range(NTests):\n",
        "    x = np.random.normal(mu, var, NPoints)\n",
        "    err += (mu - x.mean())**2\n",
        "\n",
        "print('MSE: ', err/NTests) \n",
        "\n",
        "np.var(x)"
      ],
      "execution_count": 20,
      "outputs": [
        {
          "output_type": "stream",
          "name": "stdout",
          "text": [
            "MSE:  9.786234999520336e-06\n"
          ]
        },
        {
          "output_type": "execute_result",
          "data": {
            "text/plain": [
              "1.003266193558128"
            ]
          },
          "metadata": {},
          "execution_count": 20
        }
      ]
    },
    {
      "cell_type": "markdown",
      "metadata": {
        "id": "-_wb6q8kw8Ip"
      },
      "source": [
        "### 1.4 Other concepts: Standard scores\n",
        "\n",
        "A standard score or **Z-score** is a numerical measurement that describes a value's relationship to the mean of a group of values. Z-score is measured in terms of standard deviations from the mean. If a Z-score is 0, it indicates that the data point's score is identical to the mean score. A Z-score of 1.0 would indicate a value that is one standard deviation from the mean. It is computed as: \n",
        "\n",
        "$$ z_i = \\frac{x_i - \\mu}{\\sigma}$$"
      ]
    },
    {
      "cell_type": "markdown",
      "metadata": {
        "id": "Pn7TqI0bw8Ip"
      },
      "source": [
        "This measure is dimensionless and its distribution has mean 0 and variance 1.\n",
        "\n",
        "It inherits the \"shape\" of $X$: if it is normally distributed, so is $Z$. If $X$ is skewed, so is $Z$."
      ]
    },
    {
      "cell_type": "code",
      "metadata": {
        "id": "rpprqN7B-0aI",
        "colab": {
          "base_uri": "https://localhost:8080/",
          "height": 265
        },
        "outputId": "28ebc3c1-0537-4925-a878-87f55a4b9360"
      },
      "source": [
        "# EXERCICE: Standardize the following data and plot the histogram of the original and the standardized data \n",
        "x = np.random.normal(5, 20, 10000)\n",
        "\n",
        "x_stand = (x-np.mean(x))/np.std(x)\n",
        "\n",
        "NB = int(np.round(np.sqrt(len(x))))\n",
        "a =  plt.hist(x,NB, density='True')\n",
        "\n",
        "NB = int(np.round(np.sqrt(len(x))))\n",
        "a =  plt.hist(x_stand,NB, density='True')"
      ],
      "execution_count": 22,
      "outputs": [
        {
          "output_type": "display_data",
          "data": {
            "text/plain": [
              "<Figure size 432x288 with 1 Axes>"
            ],
            "image/png": "[encoded data removed]"
          },
          "metadata": {
            "needs_background": "light"
          }
        }
      ]
    },
    {
      "cell_type": "markdown",
      "metadata": {
        "id": "uBKnMeZcw8Ip"
      },
      "source": [
        "### 1.5 Covariance \n",
        "\n",
        "Sometimes it would be of interest to measure the relationship between two variables. \n",
        "\n",
        "**Covariance** is a measure of the tendency of two variables to vary together. If we have two series $X$ and $Y$ with $X=\\{x_i\\}$ and $Y=\\{y_i\\}$, their covariance is the expected value (or mean) of the product of their deviations from their individual expected values:\n",
        "\n",
        "$$ Cov(X,Y) = \\frac{1}{n} \\sum (x_i - \\mu_X)*(y_i - \\mu_Y), $$\n",
        "\n",
        "where $n$ is the length of the two series.\n",
        "\n",
        "The *sign of the covariance therefore shows the tendency in the linear relationship between the variables*. If the greater values of one variable mainly correspond with the greater values of the other variable, and the same holds for the lesser values, (i.e., the variables tend to show similar behavior), the covariance is positive. In the opposite case, when the greater values of one variable mainly correspond to the lesser values of the other, (i.e., the variables tend to show opposite behavior), the covariance is negative. \n",
        "\n",
        "The magnitude of the covariance is not easy to interpret because it is not normalized and hence depends on the magnitudes of the variables. The normalized version of the covariance, the correlation coefficient, however, shows by its magnitude the strength of the linear relation."
      ]
    },
    {
      "cell_type": "code",
      "metadata": {
        "colab": {
          "base_uri": "https://localhost:8080/"
        },
        "id": "GthpWXY-w8Ip",
        "outputId": "63209a56-488e-4faa-dbad-0f4ec8567848"
      },
      "source": [
        "#Como hacer una función \n",
        "def Cov(X, Y):#Nombre de la funcion (variables entrada)\n",
        "    def _get_dvis(V):#Esto es otra función para calcular la desviación estandar\n",
        "        return [v - np.mean(V) for v in V]#La variable v es como la i en c++ para bucles for. La V mayus es la entrada que le pasamos luego X e Y \n",
        "    dxis = _get_dvis(X)\n",
        "    dyis = _get_dvis(Y)\n",
        "    return np.sum([x * y for x, y in zip(dxis, dyis)])/len(X)#Aqui se define lo que devuelve la función# hay que restar a -1 en len(x) para el ultimo print\n",
        "\n",
        "X = [5, -1, 3.3, 2.7, 12.2]\n",
        "Y = [10,12,8,9,11]\n",
        "\n",
        "print(\"Cov(X, X) = %.2f\" % Cov(X, X))\n",
        "print(\"Var(X) = %.2f\" % np.var(X))\n",
        "\n",
        "print( \"Cov(X, Y) = %.2f\" % Cov(X, Y))\n",
        "print(\"Var(X,Y) = %.2f\" % np.cov(X,Y)[0][1])\n"
      ],
      "execution_count": 23,
      "outputs": [
        {
          "output_type": "stream",
          "name": "stdout",
          "text": [
            "Cov(X, X) = 18.89\n",
            "Var(X) = 18.89\n",
            "Cov(X, Y) = 0.18\n",
            "Var(X,Y) = 0.22\n"
          ]
        }
      ]
    },
    {
      "cell_type": "markdown",
      "metadata": {
        "id": "IKAIX1xrw8Ip"
      },
      "source": [
        "### 1.6 Pearson's Correlation\n",
        "\n",
        "Pearson's correlation coefficient $\\rho$ is a measure of the strength of the linear association between two variables. It also takes into account the standard deviation $\\sigma$ to measure the relationship among variables:\n",
        " \n",
        "$$ \\rho = \\frac{1}{n} \\sum p_i = \\frac{1}{n} \\sum  \\frac{(x_i - \\mu_X)}{\\sigma_X} \\frac{(y_i - \\mu_Y)}{\\sigma_Y}  $$\n",
        "\n",
        "Or we can rewrite $\\rho$ by factoring out $\\sigma_X$ and $\\sigma_Y$:\n",
        "\n",
        "$$ \\rho = \\frac{Cov(X,Y)}{\\sigma_X \\sigma_Y}$$\n",
        "\n",
        " \n"
      ]
    },
    {
      "cell_type": "code",
      "metadata": {
        "colab": {
          "base_uri": "https://localhost:8080/"
        },
        "id": "5fQYmVlaw8Iq",
        "outputId": "2694d356-7827-4ac0-dea1-7b12f87e496d"
      },
      "source": [
        "def Corr(X, Y):\n",
        "    assert len(X) == len(Y)\n",
        "    return Cov(X, Y) / np.prod([np.std(V) for V in [X, Y]])# Covarianza /desviación estandar de cada uno \n",
        "\n",
        "print(\"Corr(X, X) = %.5f\" % Corr(X, X))\n",
        "\n",
        "Y=np.random.random(len(X))\n",
        "\n",
        "print(\"Corr(X, Y) = %.5f\" % Corr(X, Y))"
      ],
      "execution_count": 24,
      "outputs": [
        {
          "output_type": "stream",
          "name": "stdout",
          "text": [
            "Corr(X, X) = 1.00000\n",
            "Corr(X, Y) = 0.13448\n"
          ]
        }
      ]
    },
    {
      "cell_type": "markdown",
      "metadata": {
        "id": "dKxOJnlTw8Iq"
      },
      "source": [
        "When $\\rho = 0$, we cannot say that there is no relationship between the variables!\n",
        "\n",
        "Pearson's coefficient only measures **linear** correlations!"
      ]
    },
    {
      "cell_type": "markdown",
      "metadata": {
        "id": "d1m1BaUyw8Iq"
      },
      "source": [
        "### 1.7 Spearman’s rank correlation\n",
        "\n",
        "Pearson’s correlation works well if the relationship between variables is linear and if the variables are roughly normal. But it is not robust in the presence of **outliers**. Spearman’s rank correlation is an alternative that mitigates the effect of outliers and skewed distributions. \n",
        "\n",
        "* To compute Spearman’s correlation, we have to compute the rank of each value, which is its index in the sorted sample. For example, in the sample {7, 1, 2, 5} the rank of the value 5 is 3, because it appears third if we sort the elements. Then, we compute the Pearson’s correlation, **but for the ranks**.\n",
        "\n",
        "* Spearman's correlation coefficient, $\\rho_s$ measures the strength and direction of association between two ranked variables. While Pearson's correlation assesses linear relationships, Spearman's correlation assesses monotonic relationships (whether linear or not)."
      ]
    },
    {
      "cell_type": "code",
      "metadata": {
        "colab": {
          "base_uri": "https://localhost:8080/"
        },
        "id": "3KRFls4Cw8Iq",
        "outputId": "673ddb02-3865-412e-ba45-df997470bd66"
      },
      "source": [
        "def list2rank(l):\n",
        "    #l is a list of numbers\n",
        "    # returns a list of 1-based index; mean when multiple instances\n",
        "    return [np.mean([i+1 for i, sorted_el in enumerate(sorted(l)) if sorted_el == el]) for el in l]\n",
        "\n",
        "l = [7, 1, 2, 5]\n",
        "print(\"ranks: \", list2rank(l))\n",
        "\n",
        "def spearmanRank(X, Y):\n",
        "    # X and Y are same-length lists\n",
        "    return Corr(list2rank(X), list2rank(Y))\n",
        "\n",
        "X = [1, 2, 3, 4, 100]\n",
        "Y = [5, -100, 7, 10, 9]\n",
        "\n",
        "print(\"Pearson rank coefficient: %.2f\" % Corr(X, Y))\n",
        "print(\"Spearman rank coefficient: %.2f\" % spearmanRank(X, Y))\n",
        "\n"
      ],
      "execution_count": 28,
      "outputs": [
        {
          "output_type": "stream",
          "name": "stdout",
          "text": [
            "ranks:  [4.0, 1.0, 2.0, 3.0]\n",
            "Pearson rank coefficient: 0.27\n",
            "Spearman rank coefficient: 0.80\n"
          ]
        }
      ]
    },
    {
      "cell_type": "markdown",
      "metadata": {
        "id": "NE_yGY4Iw8Ir"
      },
      "source": [
        "Anscombe’s quartet consists of four datasets that have nearly identical simple statistical properties, yet appear very different when graphed. Each dataset consists of eleven (x, y) points. They were constructed in 1973 by the statistician Francis Anscombe to demonstrate both the importance of graphing data before analyzing it and the effect of outliers on statistical properties."
      ]
    },
    {
      "cell_type": "markdown",
      "metadata": {
        "id": "RBahLyJ_w8Ir"
      },
      "source": []
    },
    {
      "cell_type": "markdown",
      "metadata": {
        "id": "Pm55qiMnayiF"
      },
      "source": [
        "(Source: https://en.wikipedia.org/wiki/Anscombe%27s_quartet)"
      ]
    },
    {
      "cell_type": "code",
      "metadata": {
        "id": "ouaReHxhw8Ir"
      },
      "source": [
        "# EXERCISE: Load the Anscombe's quartet (file anscombe.csv from the files directory) and obtain the covariance, \n",
        "# Pearson's correlation and Spearman's rank correlation from each pair\n",
        "\n"
      ],
      "execution_count": null,
      "outputs": []
    },
    {
      "cell_type": "code",
      "metadata": {
        "id": "cLa5KJQQw8Ir",
        "colab": {
          "base_uri": "https://localhost:8080/",
          "height": 206
        },
        "outputId": "b602829c-1931-4bac-ffaa-2e145d9f4183"
      },
      "source": [
        "#My solution here\n",
        "import pandas as pd\n",
        "da = pd.read_csv('anscombe.csv')  \n",
        "da.head()\n",
        "\n"
      ],
      "execution_count": 30,
      "outputs": [
        {
          "output_type": "execute_result",
          "data": {
            "text/plain": [
              "   x1  x2  x3  x4    y1    y2     y3    y4\n",
              "0  10  10  10   8  8.04  9.14   7.46  6.58\n",
              "1   8   8   8   8  6.95  8.14   6.77  5.76\n",
              "2  13  13  13   8  7.58  8.74  12.74  7.71\n",
              "3   9   9   9   8  8.81  8.77   7.11  8.84\n",
              "4  11  11  11   8  8.33  9.26   7.81  8.47"
            ],
            "text/html": [
              "\n",
              "  <div id=\"df-c51744ed-414e-41df-9732-31eb059801fa\">\n",
              "    <div class=\"colab-df-container\">\n",
              "      <div>\n",
              "<style scoped>\n",
              "    .dataframe tbody tr th:only-of-type {\n",
              "        vertical-align: middle;\n",
              "    }\n",
              "\n",
              "    .dataframe tbody tr th {\n",
              "        vertical-align: top;\n",
              "    }\n",
              "\n",
              "    .dataframe thead th {\n",
              "        text-align: right;\n",
              "    }\n",
              "</style>\n",
              "<table border=\"1\" class=\"dataframe\">\n",
              "  <thead>\n",
              "    <tr style=\"text-align: right;\">\n",
              "      <th></th>\n",
              "      <th>x1</th>\n",
              "      <th>x2</th>\n",
              "      <th>x3</th>\n",
              "      <th>x4</th>\n",
              "      <th>y1</th>\n",
              "      <th>y2</th>\n",
              "      <th>y3</th>\n",
              "      <th>y4</th>\n",
              "    </tr>\n",
              "  </thead>\n",
              "  <tbody>\n",
              "    <tr>\n",
              "      <th>0</th>\n",
              "      <td>10</td>\n",
              "      <td>10</td>\n",
              "      <td>10</td>\n",
              "      <td>8</td>\n",
              "      <td>8.04</td>\n",
              "      <td>9.14</td>\n",
              "      <td>7.46</td>\n",
              "      <td>6.58</td>\n",
              "    </tr>\n",
              "    <tr>\n",
              "      <th>1</th>\n",
              "      <td>8</td>\n",
              "      <td>8</td>\n",
              "      <td>8</td>\n",
              "      <td>8</td>\n",
              "      <td>6.95</td>\n",
              "      <td>8.14</td>\n",
              "      <td>6.77</td>\n",
              "      <td>5.76</td>\n",
              "    </tr>\n",
              "    <tr>\n",
              "      <th>2</th>\n",
              "      <td>13</td>\n",
              "      <td>13</td>\n",
              "      <td>13</td>\n",
              "      <td>8</td>\n",
              "      <td>7.58</td>\n",
              "      <td>8.74</td>\n",
              "      <td>12.74</td>\n",
              "      <td>7.71</td>\n",
              "    </tr>\n",
              "    <tr>\n",
              "      <th>3</th>\n",
              "      <td>9</td>\n",
              "      <td>9</td>\n",
              "      <td>9</td>\n",
              "      <td>8</td>\n",
              "      <td>8.81</td>\n",
              "      <td>8.77</td>\n",
              "      <td>7.11</td>\n",
              "      <td>8.84</td>\n",
              "    </tr>\n",
              "    <tr>\n",
              "      <th>4</th>\n",
              "      <td>11</td>\n",
              "      <td>11</td>\n",
              "      <td>11</td>\n",
              "      <td>8</td>\n",
              "      <td>8.33</td>\n",
              "      <td>9.26</td>\n",
              "      <td>7.81</td>\n",
              "      <td>8.47</td>\n",
              "    </tr>\n",
              "  </tbody>\n",
              "</table>\n",
              "</div>\n",
              "      <button class=\"colab-df-convert\" onclick=\"convertToInteractive('df-c51744ed-414e-41df-9732-31eb059801fa')\"\n",
              "              title=\"Convert this dataframe to an interactive table.\"\n",
              "              style=\"display:none;\">\n",
              "        \n",
              "  <svg xmlns=\"http://www.w3.org/2000/svg\" height=\"24px\"viewBox=\"0 0 24 24\"\n",
              "       width=\"24px\">\n",
              "    <path d=\"M0 0h24v24H0V0z\" fill=\"none\"/>\n",
              "    <path d=\"M18.56 5.44l.94 2.06.94-2.06 2.06-.94-2.06-.94-.94-2.06-.94 2.06-2.06.94zm-11 1L8.5 8.5l.94-2.06 2.06-.94-2.06-.94L8.5 2.5l-.94 2.06-2.06.94zm10 10l.94 2.06.94-2.06 2.06-.94-2.06-.94-.94-2.06-.94 2.06-2.06.94z\"/><path d=\"M17.41 7.96l-1.37-1.37c-.4-.4-.92-.59-1.43-.59-.52 0-1.04.2-1.43.59L10.3 9.45l-7.72 7.72c-.78.78-.78 2.05 0 2.83L4 21.41c.39.39.9.59 1.41.59.51 0 1.02-.2 1.41-.59l7.78-7.78 2.81-2.81c.8-.78.8-2.07 0-2.86zM5.41 20L4 18.59l7.72-7.72 1.47 1.35L5.41 20z\"/>\n",
              "  </svg>\n",
              "      </button>\n",
              "      \n",
              "  <style>\n",
              "    .colab-df-container {\n",
              "      display:flex;\n",
              "      flex-wrap:wrap;\n",
              "      gap: 12px;\n",
              "    }\n",
              "\n",
              "    .colab-df-convert {\n",
              "      background-color: #E8F0FE;\n",
              "      border: none;\n",
              "      border-radius: 50%;\n",
              "      cursor: pointer;\n",
              "      display: none;\n",
              "      fill: #1967D2;\n",
              "      height: 32px;\n",
              "      padding: 0 0 0 0;\n",
              "      width: 32px;\n",
              "    }\n",
              "\n",
              "    .colab-df-convert:hover {\n",
              "      background-color: #E2EBFA;\n",
              "      box-shadow: 0px 1px 2px rgba(60, 64, 67, 0.3), 0px 1px 3px 1px rgba(60, 64, 67, 0.15);\n",
              "      fill: #174EA6;\n",
              "    }\n",
              "\n",
              "    [theme=dark] .colab-df-convert {\n",
              "      background-color: #3B4455;\n",
              "      fill: #D2E3FC;\n",
              "    }\n",
              "\n",
              "    [theme=dark] .colab-df-convert:hover {\n",
              "      background-color: #434B5C;\n",
              "      box-shadow: 0px 1px 3px 1px rgba(0, 0, 0, 0.15);\n",
              "      filter: drop-shadow(0px 1px 2px rgba(0, 0, 0, 0.3));\n",
              "      fill: #FFFFFF;\n",
              "    }\n",
              "  </style>\n",
              "\n",
              "      <script>\n",
              "        const buttonEl =\n",
              "          document.querySelector('#df-c51744ed-414e-41df-9732-31eb059801fa button.colab-df-convert');\n",
              "        buttonEl.style.display =\n",
              "          google.colab.kernel.accessAllowed ? 'block' : 'none';\n",
              "\n",
              "        async function convertToInteractive(key) {\n",
              "          const element = document.querySelector('#df-c51744ed-414e-41df-9732-31eb059801fa');\n",
              "          const dataTable =\n",
              "            await google.colab.kernel.invokeFunction('convertToInteractive',\n",
              "                                                     [key], {});\n",
              "          if (!dataTable) return;\n",
              "\n",
              "          const docLinkHtml = 'Like what you see? Visit the ' +\n",
              "            '<a target=\"_blank\" href=https://colab.research.google.com/notebooks/data_table.ipynb>data table notebook</a>'\n",
              "            + ' to learn more about interactive tables.';\n",
              "          element.innerHTML = '';\n",
              "          dataTable['output_type'] = 'display_data';\n",
              "          await google.colab.output.renderOutput(dataTable, element);\n",
              "          const docLink = document.createElement('div');\n",
              "          docLink.innerHTML = docLinkHtml;\n",
              "          element.appendChild(docLink);\n",
              "        }\n",
              "      </script>\n",
              "    </div>\n",
              "  </div>\n",
              "  "
            ]
          },
          "metadata": {},
          "execution_count": 30
        }
      ]
    },
    {
      "cell_type": "code",
      "source": [
        "x1 = da['x1'].values\n",
        "y1 = da['y1'].values\n",
        "\n",
        "plt.plot(x1,y1,'.')\n",
        "\n",
        "print( \"Cov(X1, Y1) = %.2f\" % Cov(x1, y1))\n",
        "print(\"Pearson rank coefficient 1: %.2f\" % Corr(x1, y1))\n",
        "print(\"Spearman rank coefficient 1: %.2f\" % spearmanRank(x1, y1))\n",
        "\n",
        "x2 = da['x2'].values\n",
        "y2 = da['y2'].values\n",
        "\n",
        "plt.plot(x2,y2,'.')\n",
        "\n",
        "print( \"Cov(X2, Y2) = %.2f\" % Cov(x2, y2))\n",
        "print(\"Pearson rank coefficient 2: %.2f\" % Corr(x2, y2))\n",
        "print(\"Spearman rank coefficient 2: %.2f\" % spearmanRank(x2, y2))\n",
        "\n",
        "x3 = da['x3'].values\n",
        "y3 = da['y3'].values\n",
        "\n",
        "plt.plot(x3,y3,'.')\n",
        "\n",
        "print( \"Cov(X3, Y3) = %.2f\" % Cov(x3, y3))\n",
        "print(\"Pearson rank coefficient 3: %.2f\" % Corr(x3, y3))\n",
        "print(\"Spearman rank coefficient 3: %.2f\" % spearmanRank(x3, y3))\n",
        "\n",
        "x4 = da['x4'].values\n",
        "y4 = da['y4'].values\n",
        "\n",
        "plt.plot(x4,y4,'.')\n",
        "\n",
        "print( \"Cov(X4, Y4) = %.2f\" % Cov(x4, y4))\n",
        "print(\"Pearson rank coefficient 4: %.2f\" % Corr(x4, y4))\n",
        "print(\"Spearman rank coefficient 4: %.2f\" % spearmanRank(x4, y4))"
      ],
      "metadata": {
        "colab": {
          "base_uri": "https://localhost:8080/",
          "height": 473
        },
        "id": "N-XnphI-BzIs",
        "outputId": "e4ff9f73-b98b-4009-b46c-ae40faf05b95"
      },
      "execution_count": 35,
      "outputs": [
        {
          "output_type": "stream",
          "name": "stdout",
          "text": [
            "Cov(X1, Y1) = 5.00\n",
            "Pearson rank coefficient 1: 0.82\n",
            "Spearman rank coefficient 1: 0.82\n",
            "Cov(X2, Y2) = 5.00\n",
            "Pearson rank coefficient 2: 0.82\n",
            "Spearman rank coefficient 2: 0.69\n",
            "Cov(X3, Y3) = 5.00\n",
            "Pearson rank coefficient 3: 0.82\n",
            "Spearman rank coefficient 3: 0.99\n",
            "Cov(X4, Y4) = 5.00\n",
            "Pearson rank coefficient 4: 0.82\n",
            "Spearman rank coefficient 4: 0.50\n"
          ]
        },
        {
          "output_type": "display_data",
          "data": {
            "text/plain": [
              "<Figure size 432x288 with 1 Axes>"
            ],
            "image/png": "[encoded data removed]"
          },
          "metadata": {
            "needs_background": "light"
          }
        }
      ]
    },
    {
      "cell_type": "markdown",
      "metadata": {
        "id": "hnA6Qg7Bw8Is"
      },
      "source": [
        "Here we implemented the correlation metrics by hand, but note these metrics are also implemented in python <code>scipy.stats.pearsonr</code> and <code>scipy.stats.spearmanr</code>. Check them out!\n"
      ]
    },
    {
      "cell_type": "code",
      "metadata": {
        "collapsed": true,
        "id": "4ABVF6tiw8Is"
      },
      "source": [],
      "execution_count": null,
      "outputs": []
    }
  ]
}